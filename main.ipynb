{
 "cells": [
  {
   "cell_type": "markdown",
   "id": "54be27f1",
   "metadata": {},
   "source": [
    "# Основной код"
   ]
  },
  {
   "cell_type": "markdown",
   "id": "478805ad",
   "metadata": {},
   "source": [
    "## Данные"
   ]
  },
  {
   "cell_type": "markdown",
   "id": "d10e12e3",
   "metadata": {},
   "source": [
    "### Библиотеки"
   ]
  },
  {
   "cell_type": "code",
   "execution_count": 2,
   "id": "6d3addc5",
   "metadata": {},
   "outputs": [
    {
     "name": "stdout",
     "output_type": "stream",
     "text": [
      "INFO: Pandarallel will run on 1 workers.\n",
      "INFO: Pandarallel will use Memory file system to transfer data between the main process and workers.\n"
     ]
    },
    {
     "name": "stderr",
     "output_type": "stream",
     "text": [
      "[nltk_data] Downloading package stopwords to\n",
      "[nltk_data]     /home/daniilrubin/nltk_data...\n",
      "[nltk_data]   Package stopwords is already up-to-date!\n"
     ]
    }
   ],
   "source": [
    "import boto3\n",
    "import random\n",
    "import os\n",
    "import pandas as pd\n",
    "from pymorphy2 import MorphAnalyzer\n",
    "import pickle\n",
    "from sklearn.model_selection import train_test_split\n",
    "import matplotlib.pyplot as plt\n",
    "from pandarallel import pandarallel\n",
    "from sklearn.feature_extraction.text import TfidfVectorizer\n",
    "import torch\n",
    "import torch.nn as nn\n",
    "from torch.utils.data import Dataset, DataLoader\n",
    "import nltk\n",
    "import numpy as np\n",
    "from tqdm import tqdm\n",
    "import mlflow\n",
    "from dvc.api import DVCFileSystem\n",
    "\n",
    "from private import s3_access_key, s3_secret_key, mlflow_server_ip\n",
    "\n",
    "tqdm.pandas()\n",
    "nltk.download('stopwords')\n",
    "pd.options.mode.chained_assignment = None\n",
    "pandarallel.initialize(progress_bar=True)"
   ]
  },
  {
   "cell_type": "markdown",
   "id": "209ba468-c3e6-4eec-ae50-f6fdd580cdc5",
   "metadata": {},
   "source": [
    "Скачиваем предобработанные данные из dvc.\n",
    "Перед запуском шага проверьте, что в файле .dvc/config лежат правильные авторизационные данные для s3\n",
    "\n",
    "В результате в папке data будут файлы:\n",
    " - df_train.parquet\n",
    " - df_val.parquet\n",
    " - df_test.parquet\n",
    " - id2hub.pkl\n",
    " - tfidf_vectorizer.pkl\n",
    "   \n",
    "После выполнения этого шага можно переходить сразу к обучению моделей и не делать еще раз загрузку сырых данных и их препроцессинг. "
   ]
  },
  {
   "cell_type": "code",
   "execution_count": 3,
   "id": "dddf70c6-67c9-4b71-9f8d-cfa62614df02",
   "metadata": {},
   "outputs": [],
   "source": [
    "# downloading data from dvc\n",
    "fs = DVCFileSystem()\n",
    "fs.get('data', 'data', recursive=True)"
   ]
  },
  {
   "cell_type": "markdown",
   "id": "66ca68af",
   "metadata": {},
   "source": [
    "### Скачиваем данные"
   ]
  },
  {
   "cell_type": "code",
   "execution_count": 2,
   "id": "662f998f",
   "metadata": {},
   "outputs": [],
   "source": [
    "s3_client = boto3.client(\n",
    "    service_name='s3',\n",
    "    endpoint_url='https://storage.yandexcloud.net',\n",
    "    aws_access_key_id=s3_access_key,\n",
    "    aws_secret_access_key=s3_secret_key\n",
    ")"
   ]
  },
  {
   "cell_type": "code",
   "execution_count": 3,
   "id": "b1af4302",
   "metadata": {},
   "outputs": [],
   "source": [
    "BUCKET = \"habr-hse\"\n",
    "PATH = \"datasets/2023/articles.pkl\""
   ]
  },
  {
   "cell_type": "code",
   "execution_count": 4,
   "id": "f7fbbfb0",
   "metadata": {},
   "outputs": [
    {
     "name": "stdout",
     "output_type": "stream",
     "text": [
      "20000\n",
      "CPU times: user 1.12 s, sys: 492 ms, total: 1.61 s\n",
      "Wall time: 5.27 s\n"
     ]
    },
    {
     "data": {
      "text/html": [
       "<div>\n",
       "<style scoped>\n",
       "    .dataframe tbody tr th:only-of-type {\n",
       "        vertical-align: middle;\n",
       "    }\n",
       "\n",
       "    .dataframe tbody tr th {\n",
       "        vertical-align: top;\n",
       "    }\n",
       "\n",
       "    .dataframe thead th {\n",
       "        text-align: right;\n",
       "    }\n",
       "</style>\n",
       "<table border=\"1\" class=\"dataframe\">\n",
       "  <thead>\n",
       "    <tr style=\"text-align: right;\">\n",
       "      <th></th>\n",
       "      <th>id</th>\n",
       "      <th>title</th>\n",
       "      <th>text</th>\n",
       "      <th>time</th>\n",
       "      <th>hubs</th>\n",
       "      <th>tags</th>\n",
       "    </tr>\n",
       "  </thead>\n",
       "  <tbody>\n",
       "    <tr>\n",
       "      <th>0</th>\n",
       "      <td>768040</td>\n",
       "      <td>«Сбер» перевёл свою банкоматную сеть на собств...</td>\n",
       "      <td>17 октября 2023 года «Сбер» сообщил о переводе...</td>\n",
       "      <td>17  окт   в 14:36</td>\n",
       "      <td>Информационная безопасность *|Платежные систем...</td>\n",
       "      <td>сбер|банкомат|процессинг</td>\n",
       "    </tr>\n",
       "    <tr>\n",
       "      <th>1</th>\n",
       "      <td>768038</td>\n",
       "      <td>Code smells — обзор на примере PHP</td>\n",
       "      <td>Hola, Amigos! Меня зовут Евгений Шмулевский, я...</td>\n",
       "      <td>17  окт   в 14:27</td>\n",
       "      <td>PHP *|Программирование *|Совершенный код *</td>\n",
       "      <td>codesmell|php|разработка сайтов|код|программир...</td>\n",
       "    </tr>\n",
       "    <tr>\n",
       "      <th>2</th>\n",
       "      <td>768036</td>\n",
       "      <td>Беспарольный вход стал основным для пользовате...</td>\n",
       "      <td>VK ID обновил процесс авторизации пользователе...</td>\n",
       "      <td>17  окт   в 14:25</td>\n",
       "      <td>Информационная безопасность *|Социальные сети ...</td>\n",
       "      <td>it-компании|vk id|пароли|вконтакте|соцсети</td>\n",
       "    </tr>\n",
       "    <tr>\n",
       "      <th>3</th>\n",
       "      <td>768034</td>\n",
       "      <td>Улучшенная маршрутизация HTTP-серверов в Go 1.22</td>\n",
       "      <td>В Go 1.22 ожидается появление интересного пред...</td>\n",
       "      <td>17  окт   в 14:17</td>\n",
       "      <td>Go *</td>\n",
       "      <td>mux|роутинг</td>\n",
       "    </tr>\n",
       "    <tr>\n",
       "      <th>4</th>\n",
       "      <td>768032</td>\n",
       "      <td>Xiaomi представила собственную мобильную опера...</td>\n",
       "      <td>Xiaomi выпустит новую операционную систему под...</td>\n",
       "      <td>17  окт   в 14:08</td>\n",
       "      <td>Разработка под Android *|Гаджеты |Смартфоны |И...</td>\n",
       "      <td>xiaomi|hyperos|операционные системы|ос|мобильн...</td>\n",
       "    </tr>\n",
       "  </tbody>\n",
       "</table>\n",
       "</div>"
      ],
      "text/plain": [
       "       id                                              title  \\\n",
       "0  768040  «Сбер» перевёл свою банкоматную сеть на собств...   \n",
       "1  768038                 Code smells — обзор на примере PHP   \n",
       "2  768036  Беспарольный вход стал основным для пользовате...   \n",
       "3  768034   Улучшенная маршрутизация HTTP-серверов в Go 1.22   \n",
       "4  768032  Xiaomi представила собственную мобильную опера...   \n",
       "\n",
       "                                                text               time  \\\n",
       "0  17 октября 2023 года «Сбер» сообщил о переводе...  17  окт   в 14:36   \n",
       "1  Hola, Amigos! Меня зовут Евгений Шмулевский, я...  17  окт   в 14:27   \n",
       "2  VK ID обновил процесс авторизации пользователе...  17  окт   в 14:25   \n",
       "3  В Go 1.22 ожидается появление интересного пред...  17  окт   в 14:17   \n",
       "4  Xiaomi выпустит новую операционную систему под...  17  окт   в 14:08   \n",
       "\n",
       "                                                hubs  \\\n",
       "0  Информационная безопасность *|Платежные систем...   \n",
       "1         PHP *|Программирование *|Совершенный код *   \n",
       "2  Информационная безопасность *|Социальные сети ...   \n",
       "3                                               Go *   \n",
       "4  Разработка под Android *|Гаджеты |Смартфоны |И...   \n",
       "\n",
       "                                                tags  \n",
       "0                           сбер|банкомат|процессинг  \n",
       "1  codesmell|php|разработка сайтов|код|программир...  \n",
       "2         it-компании|vk id|пароли|вконтакте|соцсети  \n",
       "3                                        mux|роутинг  \n",
       "4  xiaomi|hyperos|операционные системы|ос|мобильн...  "
      ]
     },
     "execution_count": 4,
     "metadata": {},
     "output_type": "execute_result"
    }
   ],
   "source": [
    "%%time\n",
    "\n",
    "df_orig = pickle.loads(s3_client.get_object(Bucket=BUCKET, Key=PATH).get('Body').read())\n",
    "len_df_orig = len(df_orig)\n",
    "print(len_df_orig)\n",
    "df_orig.head(5)"
   ]
  },
  {
   "cell_type": "code",
   "execution_count": 5,
   "id": "13b24b27",
   "metadata": {},
   "outputs": [
    {
     "name": "stdout",
     "output_type": "stream",
     "text": [
      "Максимум хабов: 6\n"
     ]
    }
   ],
   "source": [
    "print('Максимум хабов:', df_orig['hubs'].apply(lambda text: len(text.replace('*', '').split('|'))).max())"
   ]
  },
  {
   "cell_type": "markdown",
   "id": "063d6801",
   "metadata": {},
   "source": [
    "### Формируем качественные данные"
   ]
  },
  {
   "cell_type": "code",
   "execution_count": 6,
   "id": "d44d19fc",
   "metadata": {},
   "outputs": [
    {
     "name": "stderr",
     "output_type": "stream",
     "text": [
      "100%|███████████████████████████████████████████████████████████████████████████████████████████████████████████████████████████████| 20000/20000 [00:07<00:00, 2503.96it/s]\n"
     ]
    },
    {
     "name": "stdout",
     "output_type": "stream",
     "text": [
      "63367\n"
     ]
    },
    {
     "data": {
      "text/html": [
       "<div>\n",
       "<style scoped>\n",
       "    .dataframe tbody tr th:only-of-type {\n",
       "        vertical-align: middle;\n",
       "    }\n",
       "\n",
       "    .dataframe tbody tr th {\n",
       "        vertical-align: top;\n",
       "    }\n",
       "\n",
       "    .dataframe thead th {\n",
       "        text-align: right;\n",
       "    }\n",
       "</style>\n",
       "<table border=\"1\" class=\"dataframe\">\n",
       "  <thead>\n",
       "    <tr style=\"text-align: right;\">\n",
       "      <th></th>\n",
       "      <th>id</th>\n",
       "      <th>title</th>\n",
       "      <th>text</th>\n",
       "      <th>time</th>\n",
       "      <th>hubs</th>\n",
       "      <th>tags</th>\n",
       "    </tr>\n",
       "  </thead>\n",
       "  <tbody>\n",
       "    <tr>\n",
       "      <th>0</th>\n",
       "      <td>768040</td>\n",
       "      <td>«Сбер» перевёл свою банкоматную сеть на собств...</td>\n",
       "      <td>17 октября 2023 года «Сбер» сообщил о переводе...</td>\n",
       "      <td>17  окт   в 14:36</td>\n",
       "      <td>Информационная безопасность</td>\n",
       "      <td>[сбер, банкомат, процессинг]</td>\n",
       "    </tr>\n",
       "    <tr>\n",
       "      <th>0</th>\n",
       "      <td>768040</td>\n",
       "      <td>«Сбер» перевёл свою банкоматную сеть на собств...</td>\n",
       "      <td>17 октября 2023 года «Сбер» сообщил о переводе...</td>\n",
       "      <td>17  окт   в 14:36</td>\n",
       "      <td>Платежные системы</td>\n",
       "      <td>[сбер, банкомат, процессинг]</td>\n",
       "    </tr>\n",
       "    <tr>\n",
       "      <th>0</th>\n",
       "      <td>768040</td>\n",
       "      <td>«Сбер» перевёл свою банкоматную сеть на собств...</td>\n",
       "      <td>17 октября 2023 года «Сбер» сообщил о переводе...</td>\n",
       "      <td>17  окт   в 14:36</td>\n",
       "      <td>IT-инфраструктура</td>\n",
       "      <td>[сбер, банкомат, процессинг]</td>\n",
       "    </tr>\n",
       "    <tr>\n",
       "      <th>0</th>\n",
       "      <td>768040</td>\n",
       "      <td>«Сбер» перевёл свою банкоматную сеть на собств...</td>\n",
       "      <td>17 октября 2023 года «Сбер» сообщил о переводе...</td>\n",
       "      <td>17  окт   в 14:36</td>\n",
       "      <td>Облачные сервисы</td>\n",
       "      <td>[сбер, банкомат, процессинг]</td>\n",
       "    </tr>\n",
       "    <tr>\n",
       "      <th>0</th>\n",
       "      <td>768040</td>\n",
       "      <td>«Сбер» перевёл свою банкоматную сеть на собств...</td>\n",
       "      <td>17 октября 2023 года «Сбер» сообщил о переводе...</td>\n",
       "      <td>17  окт   в 14:36</td>\n",
       "      <td>Финансы в IT</td>\n",
       "      <td>[сбер, банкомат, процессинг]</td>\n",
       "    </tr>\n",
       "  </tbody>\n",
       "</table>\n",
       "</div>"
      ],
      "text/plain": [
       "       id                                              title  \\\n",
       "0  768040  «Сбер» перевёл свою банкоматную сеть на собств...   \n",
       "0  768040  «Сбер» перевёл свою банкоматную сеть на собств...   \n",
       "0  768040  «Сбер» перевёл свою банкоматную сеть на собств...   \n",
       "0  768040  «Сбер» перевёл свою банкоматную сеть на собств...   \n",
       "0  768040  «Сбер» перевёл свою банкоматную сеть на собств...   \n",
       "\n",
       "                                                text               time  \\\n",
       "0  17 октября 2023 года «Сбер» сообщил о переводе...  17  окт   в 14:36   \n",
       "0  17 октября 2023 года «Сбер» сообщил о переводе...  17  окт   в 14:36   \n",
       "0  17 октября 2023 года «Сбер» сообщил о переводе...  17  окт   в 14:36   \n",
       "0  17 октября 2023 года «Сбер» сообщил о переводе...  17  окт   в 14:36   \n",
       "0  17 октября 2023 года «Сбер» сообщил о переводе...  17  окт   в 14:36   \n",
       "\n",
       "                           hubs                          tags  \n",
       "0  Информационная безопасность   [сбер, банкомат, процессинг]  \n",
       "0            Платежные системы   [сбер, банкомат, процессинг]  \n",
       "0            IT-инфраструктура   [сбер, банкомат, процессинг]  \n",
       "0             Облачные сервисы   [сбер, банкомат, процессинг]  \n",
       "0                 Финансы в IT   [сбер, банкомат, процессинг]  "
      ]
     },
     "execution_count": 6,
     "metadata": {},
     "output_type": "execute_result"
    }
   ],
   "source": [
    "df = df_orig.copy()\n",
    "df['time'] = df['time']\n",
    "df['tags'] = df['tags'].apply(lambda tags: tags.split('|'))\n",
    "df['hubs'] = df['hubs'].apply(lambda hubs: hubs.replace('*', '').split('|'))\n",
    "df_list = []\n",
    "for i in tqdm(range(len(df))):\n",
    "    df_i = df.iloc[[i]*len(df[i:i+1]['hubs'].values[0])]\n",
    "    df_i['hubs'] = [label for label in df_i['hubs'].values[0]]\n",
    "    df_list.append(df_i)\n",
    "df = pd.concat(df_list)\n",
    "print(len(df))\n",
    "df.head(5)"
   ]
  },
  {
   "cell_type": "code",
   "execution_count": 7,
   "id": "156d0dfc",
   "metadata": {},
   "outputs": [],
   "source": [
    "df = df[~df['hubs'].str.contains('Блог компании')]"
   ]
  },
  {
   "cell_type": "code",
   "execution_count": 8,
   "id": "2814c9a5",
   "metadata": {},
   "outputs": [
    {
     "name": "stdout",
     "output_type": "stream",
     "text": [
      "В среднем одна статья имеет: 2.8193 категории\n"
     ]
    }
   ],
   "source": [
    "print(f'В среднем одна статья имеет: {len(df)/len_df_orig} категории')"
   ]
  },
  {
   "cell_type": "code",
   "execution_count": 9,
   "id": "363a1b10",
   "metadata": {},
   "outputs": [
    {
     "data": {
      "text/plain": [
       "hubs\n",
       "IT-компании                     3324\n",
       "Информационная безопасность     1782\n",
       "Научно-популярное               1759\n",
       "Искусственный интеллект         1690\n",
       "Программирование                1415\n",
       "                                ... \n",
       "Twitter API                        1\n",
       "Google Web Toolkit                 1\n",
       "Creative Commons                   1\n",
       "Microsoft Access                   1\n",
       "Silverlight                        1\n",
       "Name: count, Length: 403, dtype: int64"
      ]
     },
     "execution_count": 9,
     "metadata": {},
     "output_type": "execute_result"
    }
   ],
   "source": [
    "df['hubs'].value_counts()"
   ]
  },
  {
   "cell_type": "code",
   "execution_count": 10,
   "id": "11ad7ba6",
   "metadata": {},
   "outputs": [
    {
     "data": {
      "text/plain": [
       "hubs\n",
       "IT-компании                     3324\n",
       "Информационная безопасность     1782\n",
       "Научно-популярное               1759\n",
       "Искусственный интеллект         1690\n",
       "Программирование                1415\n",
       "                                ... \n",
       "Монетизация IT-систем             20\n",
       "Восстановление данных             20\n",
       "WebAssembly                       20\n",
       "Xcode                             20\n",
       "Образование за рубежом            20\n",
       "Name: count, Length: 260, dtype: int64"
      ]
     },
     "execution_count": 10,
     "metadata": {},
     "output_type": "execute_result"
    }
   ],
   "source": [
    "min_count = 20\n",
    "df_val_count = df['hubs'].value_counts()\n",
    "true_hubs = df_val_count[df_val_count>=min_count].index\n",
    "df = df[df['hubs'].apply(lambda hub: hub in true_hubs)]\n",
    "df['hubs'].value_counts()"
   ]
  },
  {
   "cell_type": "code",
   "execution_count": 11,
   "id": "6da6652a",
   "metadata": {},
   "outputs": [
    {
     "name": "stdout",
     "output_type": "stream",
     "text": [
      "Всего уникальных категорий: 260\n"
     ]
    }
   ],
   "source": [
    "print(f\"Всего уникальных категорий: {len(df['hubs'].unique())}\")"
   ]
  },
  {
   "cell_type": "code",
   "execution_count": 12,
   "id": "66d5d25f",
   "metadata": {},
   "outputs": [
    {
     "data": {
      "image/png": "[encoded data removed]",
      "text/plain": [
       "<Figure size 800x800 with 1 Axes>"
      ]
     },
     "metadata": {},
     "output_type": "display_data"
    }
   ],
   "source": [
    "df['hubs'].value_counts().plot(figsize=(8, 8))\n",
    "plt.xticks(rotation='vertical')\n",
    "plt.title('Количество статей на каждую категорию')\n",
    "plt.ylabel('Количество статей')\n",
    "plt.xlabel('Категории')\n",
    "plt.tick_params(labelsize = 7)\n",
    "plt.show()"
   ]
  },
  {
   "cell_type": "code",
   "execution_count": 13,
   "id": "aa3d9802",
   "metadata": {},
   "outputs": [
    {
     "data": {
      "text/html": [
       "<div>\n",
       "<style scoped>\n",
       "    .dataframe tbody tr th:only-of-type {\n",
       "        vertical-align: middle;\n",
       "    }\n",
       "\n",
       "    .dataframe tbody tr th {\n",
       "        vertical-align: top;\n",
       "    }\n",
       "\n",
       "    .dataframe thead th {\n",
       "        text-align: right;\n",
       "    }\n",
       "</style>\n",
       "<table border=\"1\" class=\"dataframe\">\n",
       "  <thead>\n",
       "    <tr style=\"text-align: right;\">\n",
       "      <th></th>\n",
       "      <th>id</th>\n",
       "      <th>title</th>\n",
       "      <th>text</th>\n",
       "      <th>time</th>\n",
       "      <th>hubs</th>\n",
       "      <th>tags</th>\n",
       "    </tr>\n",
       "  </thead>\n",
       "  <tbody>\n",
       "    <tr>\n",
       "      <th>0</th>\n",
       "      <td>720724</td>\n",
       "      <td>Книга «Внутри CPYTHON: гид по интерпретатору P...</td>\n",
       "      <td>Привет, Хаброжители!\\n\\nCPython, самая популя...</td>\n",
       "      <td>6  мар   в 17:15</td>\n",
       "      <td>[Python, Профессиональная литература]</td>\n",
       "      <td>[cpyrhon]</td>\n",
       "    </tr>\n",
       "    <tr>\n",
       "      <th>1</th>\n",
       "      <td>720726</td>\n",
       "      <td>Продуктовые и фиче-команды</td>\n",
       "      <td>Эта статья наверняка огорчит многих.Я сожалею ...</td>\n",
       "      <td>6  мар   в 14:35</td>\n",
       "      <td>[Управление продуктом]</td>\n",
       "      <td>[управление продуктом, product manager, фиче-к...</td>\n",
       "    </tr>\n",
       "    <tr>\n",
       "      <th>2</th>\n",
       "      <td>720730</td>\n",
       "      <td>Как устроен виртуальный помощник для data-серв...</td>\n",
       "      <td>Привет! Меня зовут Александр, я главный систем...</td>\n",
       "      <td>6  мар   в 14:39</td>\n",
       "      <td>[Big Data, Хранилища данных]</td>\n",
       "      <td>[data governance, metadata, метаданные, управл...</td>\n",
       "    </tr>\n",
       "    <tr>\n",
       "      <th>3</th>\n",
       "      <td>720732</td>\n",
       "      <td>Полный гайд по собеседованиям в IT</td>\n",
       "      <td>В прошлых статьях мы обсудили вход в IT и узна...</td>\n",
       "      <td>6  мар   в 14:40</td>\n",
       "      <td>[Учебный процесс в IT, Карьера в IT-индустрии]</td>\n",
       "      <td>[войти в айти, собеседования, подготовка, джун...</td>\n",
       "    </tr>\n",
       "    <tr>\n",
       "      <th>4</th>\n",
       "      <td>720734</td>\n",
       "      <td>Зависимость вероятности увольнения сотрудников...</td>\n",
       "      <td>По ходу своей работы я давно сделал субъективн...</td>\n",
       "      <td>6  мар   в 14:47</td>\n",
       "      <td>[Управление проектами, Управление персоналом]</td>\n",
       "      <td>[управление людьми, управление проектами и ком...</td>\n",
       "    </tr>\n",
       "    <tr>\n",
       "      <th>...</th>\n",
       "      <td>...</td>\n",
       "      <td>...</td>\n",
       "      <td>...</td>\n",
       "      <td>...</td>\n",
       "      <td>...</td>\n",
       "      <td>...</td>\n",
       "    </tr>\n",
       "    <tr>\n",
       "      <th>19701</th>\n",
       "      <td>768032</td>\n",
       "      <td>Xiaomi представила собственную мобильную опера...</td>\n",
       "      <td>Xiaomi выпустит новую операционную систему под...</td>\n",
       "      <td>17  окт   в 14:08</td>\n",
       "      <td>[Разработка под Android, Гаджеты, Смартфоны, И...</td>\n",
       "      <td>[xiaomi, hyperos, операционные системы, ос, мо...</td>\n",
       "    </tr>\n",
       "    <tr>\n",
       "      <th>19702</th>\n",
       "      <td>768034</td>\n",
       "      <td>Улучшенная маршрутизация HTTP-серверов в Go 1.22</td>\n",
       "      <td>В Go 1.22 ожидается появление интересного пред...</td>\n",
       "      <td>17  окт   в 14:17</td>\n",
       "      <td>[Go]</td>\n",
       "      <td>[mux, роутинг]</td>\n",
       "    </tr>\n",
       "    <tr>\n",
       "      <th>19703</th>\n",
       "      <td>768036</td>\n",
       "      <td>Беспарольный вход стал основным для пользовате...</td>\n",
       "      <td>VK ID обновил процесс авторизации пользователе...</td>\n",
       "      <td>17  окт   в 14:25</td>\n",
       "      <td>[Информационная безопасность, Социальные сети ...</td>\n",
       "      <td>[it-компании, vk id, пароли, вконтакте, соцсети]</td>\n",
       "    </tr>\n",
       "    <tr>\n",
       "      <th>19704</th>\n",
       "      <td>768038</td>\n",
       "      <td>Code smells — обзор на примере PHP</td>\n",
       "      <td>Hola, Amigos! Меня зовут Евгений Шмулевский, я...</td>\n",
       "      <td>17  окт   в 14:27</td>\n",
       "      <td>[PHP, Программирование, Совершенный код]</td>\n",
       "      <td>[codesmell, php, разработка сайтов, код, прогр...</td>\n",
       "    </tr>\n",
       "    <tr>\n",
       "      <th>19705</th>\n",
       "      <td>768040</td>\n",
       "      <td>«Сбер» перевёл свою банкоматную сеть на собств...</td>\n",
       "      <td>17 октября 2023 года «Сбер» сообщил о переводе...</td>\n",
       "      <td>17  окт   в 14:36</td>\n",
       "      <td>[Информационная безопасность, Платежные систем...</td>\n",
       "      <td>[сбер, банкомат, процессинг]</td>\n",
       "    </tr>\n",
       "  </tbody>\n",
       "</table>\n",
       "<p>19706 rows × 6 columns</p>\n",
       "</div>"
      ],
      "text/plain": [
       "           id                                              title  \\\n",
       "0      720724  Книга «Внутри CPYTHON: гид по интерпретатору P...   \n",
       "1      720726                         Продуктовые и фиче-команды   \n",
       "2      720730  Как устроен виртуальный помощник для data-серв...   \n",
       "3      720732                 Полный гайд по собеседованиям в IT   \n",
       "4      720734  Зависимость вероятности увольнения сотрудников...   \n",
       "...       ...                                                ...   \n",
       "19701  768032  Xiaomi представила собственную мобильную опера...   \n",
       "19702  768034   Улучшенная маршрутизация HTTP-серверов в Go 1.22   \n",
       "19703  768036  Беспарольный вход стал основным для пользовате...   \n",
       "19704  768038                 Code smells — обзор на примере PHP   \n",
       "19705  768040  «Сбер» перевёл свою банкоматную сеть на собств...   \n",
       "\n",
       "                                                    text               time  \\\n",
       "0       Привет, Хаброжители!\\n\\nCPython, самая популя...   6  мар   в 17:15   \n",
       "1      Эта статья наверняка огорчит многих.Я сожалею ...   6  мар   в 14:35   \n",
       "2      Привет! Меня зовут Александр, я главный систем...   6  мар   в 14:39   \n",
       "3      В прошлых статьях мы обсудили вход в IT и узна...   6  мар   в 14:40   \n",
       "4      По ходу своей работы я давно сделал субъективн...   6  мар   в 14:47   \n",
       "...                                                  ...                ...   \n",
       "19701  Xiaomi выпустит новую операционную систему под...  17  окт   в 14:08   \n",
       "19702  В Go 1.22 ожидается появление интересного пред...  17  окт   в 14:17   \n",
       "19703  VK ID обновил процесс авторизации пользователе...  17  окт   в 14:25   \n",
       "19704  Hola, Amigos! Меня зовут Евгений Шмулевский, я...  17  окт   в 14:27   \n",
       "19705  17 октября 2023 года «Сбер» сообщил о переводе...  17  окт   в 14:36   \n",
       "\n",
       "                                                    hubs  \\\n",
       "0                  [Python, Профессиональная литература]   \n",
       "1                                 [Управление продуктом]   \n",
       "2                           [Big Data, Хранилища данных]   \n",
       "3         [Учебный процесс в IT, Карьера в IT-индустрии]   \n",
       "4          [Управление проектами, Управление персоналом]   \n",
       "...                                                  ...   \n",
       "19701  [Разработка под Android, Гаджеты, Смартфоны, И...   \n",
       "19702                                               [Go]   \n",
       "19703  [Информационная безопасность, Социальные сети ...   \n",
       "19704           [PHP, Программирование, Совершенный код]   \n",
       "19705  [Информационная безопасность, Платежные систем...   \n",
       "\n",
       "                                                    tags  \n",
       "0                                              [cpyrhon]  \n",
       "1      [управление продуктом, product manager, фиче-к...  \n",
       "2      [data governance, metadata, метаданные, управл...  \n",
       "3      [войти в айти, собеседования, подготовка, джун...  \n",
       "4      [управление людьми, управление проектами и ком...  \n",
       "...                                                  ...  \n",
       "19701  [xiaomi, hyperos, операционные системы, ос, мо...  \n",
       "19702                                     [mux, роутинг]  \n",
       "19703   [it-компании, vk id, пароли, вконтакте, соцсети]  \n",
       "19704  [codesmell, php, разработка сайтов, код, прогр...  \n",
       "19705                       [сбер, банкомат, процессинг]  \n",
       "\n",
       "[19706 rows x 6 columns]"
      ]
     },
     "execution_count": 13,
     "metadata": {},
     "output_type": "execute_result"
    }
   ],
   "source": [
    "df['hubs'] = df['hubs'].apply(lambda hub: [hub.strip()])\n",
    "df = df.groupby('id').agg({'title':'first', 'text':'first', 'time':'first', 'hubs':'sum', 'tags':'first'}).reset_index()\n",
    "df"
   ]
  },
  {
   "cell_type": "code",
   "execution_count": 14,
   "id": "1a855f50",
   "metadata": {},
   "outputs": [],
   "source": [
    "df.to_parquet('data/df.parquet', index=False)"
   ]
  },
  {
   "cell_type": "markdown",
   "id": "5606263c",
   "metadata": {},
   "source": [
    "### Препроцессинг текста"
   ]
  },
  {
   "cell_type": "code",
   "execution_count": 16,
   "id": "3bee2061",
   "metadata": {},
   "outputs": [],
   "source": [
    "df = pd.read_parquet('data/df.parquet')"
   ]
  },
  {
   "cell_type": "code",
   "execution_count": 17,
   "id": "ff844772",
   "metadata": {},
   "outputs": [],
   "source": [
    "# puncts = '.,\"\\'?!:;()[]{}<>-–‐—_/\\\\|*&%$€£¥₽#@^+=~`«»“”‘’0123456789'\n",
    "# puncts = '.,\"\\'?!:;()[]{}<>-–‐—_/\\\\|*&%$€£¥₽#@^+=~`«»“”‘’'\n",
    "# puncts = '.,\"\\'?!:()-–‐—`«»“”‘’'\n",
    "puncts = ''\n",
    "def del_puncts(text, puncts=puncts):\n",
    "    return ''.join([symbol if symbol not in puncts else ' ' for symbol in text.replace('\\t', ' ').replace('\\n', ' ')])"
   ]
  },
  {
   "cell_type": "code",
   "execution_count": 18,
   "id": "f47fbea0",
   "metadata": {},
   "outputs": [
    {
     "data": {
      "application/vnd.jupyter.widget-view+json": {
       "model_id": "bae6fa2a783e4359869f43314b926020",
       "version_major": 2,
       "version_minor": 0
      },
      "text/plain": [
       "VBox(children=(HBox(children=(IntProgress(value=0, description='0.00%', max=19706), Label(value='0 / 19706')))…"
      ]
     },
     "metadata": {},
     "output_type": "display_data"
    },
    {
     "name": "stdout",
     "output_type": "stream",
     "text": [
      "CPU times: user 1.41 s, sys: 405 ms, total: 1.81 s\n",
      "Wall time: 16 s\n"
     ]
    },
    {
     "data": {
      "text/html": [
       "<div>\n",
       "<style scoped>\n",
       "    .dataframe tbody tr th:only-of-type {\n",
       "        vertical-align: middle;\n",
       "    }\n",
       "\n",
       "    .dataframe tbody tr th {\n",
       "        vertical-align: top;\n",
       "    }\n",
       "\n",
       "    .dataframe thead th {\n",
       "        text-align: right;\n",
       "    }\n",
       "</style>\n",
       "<table border=\"1\" class=\"dataframe\">\n",
       "  <thead>\n",
       "    <tr style=\"text-align: right;\">\n",
       "      <th></th>\n",
       "      <th>id</th>\n",
       "      <th>title</th>\n",
       "      <th>text</th>\n",
       "      <th>time</th>\n",
       "      <th>hubs</th>\n",
       "      <th>tags</th>\n",
       "      <th>clear_text</th>\n",
       "    </tr>\n",
       "  </thead>\n",
       "  <tbody>\n",
       "    <tr>\n",
       "      <th>0</th>\n",
       "      <td>720724</td>\n",
       "      <td>Книга «Внутри CPYTHON: гид по интерпретатору P...</td>\n",
       "      <td>Привет, Хаброжители!\\n\\nCPython, самая популя...</td>\n",
       "      <td>6  мар   в 17:15</td>\n",
       "      <td>[Python, Профессиональная литература]</td>\n",
       "      <td>[cpyrhon]</td>\n",
       "      <td>Привет, Хаброжители!  CPython, самая популярн...</td>\n",
       "    </tr>\n",
       "    <tr>\n",
       "      <th>1</th>\n",
       "      <td>720726</td>\n",
       "      <td>Продуктовые и фиче-команды</td>\n",
       "      <td>Эта статья наверняка огорчит многих.Я сожалею ...</td>\n",
       "      <td>6  мар   в 14:35</td>\n",
       "      <td>[Управление продуктом]</td>\n",
       "      <td>[управление продуктом, product manager, фиче-к...</td>\n",
       "      <td>Эта статья наверняка огорчит многих.Я сожалею ...</td>\n",
       "    </tr>\n",
       "    <tr>\n",
       "      <th>2</th>\n",
       "      <td>720730</td>\n",
       "      <td>Как устроен виртуальный помощник для data-серв...</td>\n",
       "      <td>Привет! Меня зовут Александр, я главный систем...</td>\n",
       "      <td>6  мар   в 14:39</td>\n",
       "      <td>[Big Data, Хранилища данных]</td>\n",
       "      <td>[data governance, metadata, метаданные, управл...</td>\n",
       "      <td>Привет! Меня зовут Александр, я главный систем...</td>\n",
       "    </tr>\n",
       "    <tr>\n",
       "      <th>3</th>\n",
       "      <td>720732</td>\n",
       "      <td>Полный гайд по собеседованиям в IT</td>\n",
       "      <td>В прошлых статьях мы обсудили вход в IT и узна...</td>\n",
       "      <td>6  мар   в 14:40</td>\n",
       "      <td>[Учебный процесс в IT, Карьера в IT-индустрии]</td>\n",
       "      <td>[войти в айти, собеседования, подготовка, джун...</td>\n",
       "      <td>В прошлых статьях мы обсудили вход в IT и узна...</td>\n",
       "    </tr>\n",
       "    <tr>\n",
       "      <th>4</th>\n",
       "      <td>720734</td>\n",
       "      <td>Зависимость вероятности увольнения сотрудников...</td>\n",
       "      <td>По ходу своей работы я давно сделал субъективн...</td>\n",
       "      <td>6  мар   в 14:47</td>\n",
       "      <td>[Управление проектами, Управление персоналом]</td>\n",
       "      <td>[управление людьми, управление проектами и ком...</td>\n",
       "      <td>По ходу своей работы я давно сделал субъективн...</td>\n",
       "    </tr>\n",
       "    <tr>\n",
       "      <th>...</th>\n",
       "      <td>...</td>\n",
       "      <td>...</td>\n",
       "      <td>...</td>\n",
       "      <td>...</td>\n",
       "      <td>...</td>\n",
       "      <td>...</td>\n",
       "      <td>...</td>\n",
       "    </tr>\n",
       "    <tr>\n",
       "      <th>19701</th>\n",
       "      <td>768032</td>\n",
       "      <td>Xiaomi представила собственную мобильную опера...</td>\n",
       "      <td>Xiaomi выпустит новую операционную систему под...</td>\n",
       "      <td>17  окт   в 14:08</td>\n",
       "      <td>[Разработка под Android, Гаджеты, Смартфоны, И...</td>\n",
       "      <td>[xiaomi, hyperos, операционные системы, ос, мо...</td>\n",
       "      <td>Xiaomi выпустит новую операционную систему под...</td>\n",
       "    </tr>\n",
       "    <tr>\n",
       "      <th>19702</th>\n",
       "      <td>768034</td>\n",
       "      <td>Улучшенная маршрутизация HTTP-серверов в Go 1.22</td>\n",
       "      <td>В Go 1.22 ожидается появление интересного пред...</td>\n",
       "      <td>17  окт   в 14:17</td>\n",
       "      <td>[Go]</td>\n",
       "      <td>[mux, роутинг]</td>\n",
       "      <td>В Go 1.22 ожидается появление интересного пред...</td>\n",
       "    </tr>\n",
       "    <tr>\n",
       "      <th>19703</th>\n",
       "      <td>768036</td>\n",
       "      <td>Беспарольный вход стал основным для пользовате...</td>\n",
       "      <td>VK ID обновил процесс авторизации пользователе...</td>\n",
       "      <td>17  окт   в 14:25</td>\n",
       "      <td>[Информационная безопасность, Социальные сети ...</td>\n",
       "      <td>[it-компании, vk id, пароли, вконтакте, соцсети]</td>\n",
       "      <td>VK ID обновил процесс авторизации пользователе...</td>\n",
       "    </tr>\n",
       "    <tr>\n",
       "      <th>19704</th>\n",
       "      <td>768038</td>\n",
       "      <td>Code smells — обзор на примере PHP</td>\n",
       "      <td>Hola, Amigos! Меня зовут Евгений Шмулевский, я...</td>\n",
       "      <td>17  окт   в 14:27</td>\n",
       "      <td>[PHP, Программирование, Совершенный код]</td>\n",
       "      <td>[codesmell, php, разработка сайтов, код, прогр...</td>\n",
       "      <td>Hola, Amigos! Меня зовут Евгений Шмулевский, я...</td>\n",
       "    </tr>\n",
       "    <tr>\n",
       "      <th>19705</th>\n",
       "      <td>768040</td>\n",
       "      <td>«Сбер» перевёл свою банкоматную сеть на собств...</td>\n",
       "      <td>17 октября 2023 года «Сбер» сообщил о переводе...</td>\n",
       "      <td>17  окт   в 14:36</td>\n",
       "      <td>[Информационная безопасность, Платежные систем...</td>\n",
       "      <td>[сбер, банкомат, процессинг]</td>\n",
       "      <td>17 октября 2023 года «Сбер» сообщил о переводе...</td>\n",
       "    </tr>\n",
       "  </tbody>\n",
       "</table>\n",
       "<p>19706 rows × 7 columns</p>\n",
       "</div>"
      ],
      "text/plain": [
       "           id                                              title  \\\n",
       "0      720724  Книга «Внутри CPYTHON: гид по интерпретатору P...   \n",
       "1      720726                         Продуктовые и фиче-команды   \n",
       "2      720730  Как устроен виртуальный помощник для data-серв...   \n",
       "3      720732                 Полный гайд по собеседованиям в IT   \n",
       "4      720734  Зависимость вероятности увольнения сотрудников...   \n",
       "...       ...                                                ...   \n",
       "19701  768032  Xiaomi представила собственную мобильную опера...   \n",
       "19702  768034   Улучшенная маршрутизация HTTP-серверов в Go 1.22   \n",
       "19703  768036  Беспарольный вход стал основным для пользовате...   \n",
       "19704  768038                 Code smells — обзор на примере PHP   \n",
       "19705  768040  «Сбер» перевёл свою банкоматную сеть на собств...   \n",
       "\n",
       "                                                    text               time  \\\n",
       "0       Привет, Хаброжители!\\n\\nCPython, самая популя...   6  мар   в 17:15   \n",
       "1      Эта статья наверняка огорчит многих.Я сожалею ...   6  мар   в 14:35   \n",
       "2      Привет! Меня зовут Александр, я главный систем...   6  мар   в 14:39   \n",
       "3      В прошлых статьях мы обсудили вход в IT и узна...   6  мар   в 14:40   \n",
       "4      По ходу своей работы я давно сделал субъективн...   6  мар   в 14:47   \n",
       "...                                                  ...                ...   \n",
       "19701  Xiaomi выпустит новую операционную систему под...  17  окт   в 14:08   \n",
       "19702  В Go 1.22 ожидается появление интересного пред...  17  окт   в 14:17   \n",
       "19703  VK ID обновил процесс авторизации пользователе...  17  окт   в 14:25   \n",
       "19704  Hola, Amigos! Меня зовут Евгений Шмулевский, я...  17  окт   в 14:27   \n",
       "19705  17 октября 2023 года «Сбер» сообщил о переводе...  17  окт   в 14:36   \n",
       "\n",
       "                                                    hubs  \\\n",
       "0                  [Python, Профессиональная литература]   \n",
       "1                                 [Управление продуктом]   \n",
       "2                           [Big Data, Хранилища данных]   \n",
       "3         [Учебный процесс в IT, Карьера в IT-индустрии]   \n",
       "4          [Управление проектами, Управление персоналом]   \n",
       "...                                                  ...   \n",
       "19701  [Разработка под Android, Гаджеты, Смартфоны, И...   \n",
       "19702                                               [Go]   \n",
       "19703  [Информационная безопасность, Социальные сети ...   \n",
       "19704           [PHP, Программирование, Совершенный код]   \n",
       "19705  [Информационная безопасность, Платежные систем...   \n",
       "\n",
       "                                                    tags  \\\n",
       "0                                              [cpyrhon]   \n",
       "1      [управление продуктом, product manager, фиче-к...   \n",
       "2      [data governance, metadata, метаданные, управл...   \n",
       "3      [войти в айти, собеседования, подготовка, джун...   \n",
       "4      [управление людьми, управление проектами и ком...   \n",
       "...                                                  ...   \n",
       "19701  [xiaomi, hyperos, операционные системы, ос, мо...   \n",
       "19702                                     [mux, роутинг]   \n",
       "19703   [it-компании, vk id, пароли, вконтакте, соцсети]   \n",
       "19704  [codesmell, php, разработка сайтов, код, прогр...   \n",
       "19705                       [сбер, банкомат, процессинг]   \n",
       "\n",
       "                                              clear_text  \n",
       "0       Привет, Хаброжители!  CPython, самая популярн...  \n",
       "1      Эта статья наверняка огорчит многих.Я сожалею ...  \n",
       "2      Привет! Меня зовут Александр, я главный систем...  \n",
       "3      В прошлых статьях мы обсудили вход в IT и узна...  \n",
       "4      По ходу своей работы я давно сделал субъективн...  \n",
       "...                                                  ...  \n",
       "19701  Xiaomi выпустит новую операционную систему под...  \n",
       "19702  В Go 1.22 ожидается появление интересного пред...  \n",
       "19703  VK ID обновил процесс авторизации пользователе...  \n",
       "19704  Hola, Amigos! Меня зовут Евгений Шмулевский, я...  \n",
       "19705  17 октября 2023 года «Сбер» сообщил о переводе...  \n",
       "\n",
       "[19706 rows x 7 columns]"
      ]
     },
     "execution_count": 18,
     "metadata": {},
     "output_type": "execute_result"
    }
   ],
   "source": [
    "%%time\n",
    "\n",
    "df['clear_text'] = df['text'].parallel_apply(del_puncts)\n",
    "df"
   ]
  },
  {
   "cell_type": "code",
   "execution_count": 19,
   "id": "e29836a6",
   "metadata": {},
   "outputs": [
    {
     "data": {
      "text/plain": [
       "'позвонить'"
      ]
     },
     "execution_count": 19,
     "metadata": {},
     "output_type": "execute_result"
    }
   ],
   "source": [
    "morph = MorphAnalyzer()\n",
    "morph.parse('ПоЗВонИ')[0].normal_form"
   ]
  },
  {
   "cell_type": "code",
   "execution_count": 20,
   "id": "4e5d25d6",
   "metadata": {},
   "outputs": [],
   "source": [
    "def get_tokens(text, morph=morph):\n",
    "    return ' '.join([morph.parse(word)[0].normal_form for word in text.split() if word != ''])"
   ]
  },
  {
   "cell_type": "code",
   "execution_count": 21,
   "id": "3b5edd4a",
   "metadata": {
    "scrolled": true
   },
   "outputs": [
    {
     "data": {
      "application/vnd.jupyter.widget-view+json": {
       "model_id": "34735d8d74c84db3afb6b36245453d7b",
       "version_major": 2,
       "version_minor": 0
      },
      "text/plain": [
       "VBox(children=(HBox(children=(IntProgress(value=0, description='0.00%', max=19706), Label(value='0 / 19706')))…"
      ]
     },
     "metadata": {},
     "output_type": "display_data"
    },
    {
     "name": "stdout",
     "output_type": "stream",
     "text": [
      "CPU times: user 11.9 s, sys: 1.52 s, total: 13.5 s\n",
      "Wall time: 1h 2min 38s\n"
     ]
    },
    {
     "data": {
      "text/html": [
       "<div>\n",
       "<style scoped>\n",
       "    .dataframe tbody tr th:only-of-type {\n",
       "        vertical-align: middle;\n",
       "    }\n",
       "\n",
       "    .dataframe tbody tr th {\n",
       "        vertical-align: top;\n",
       "    }\n",
       "\n",
       "    .dataframe thead th {\n",
       "        text-align: right;\n",
       "    }\n",
       "</style>\n",
       "<table border=\"1\" class=\"dataframe\">\n",
       "  <thead>\n",
       "    <tr style=\"text-align: right;\">\n",
       "      <th></th>\n",
       "      <th>id</th>\n",
       "      <th>title</th>\n",
       "      <th>text</th>\n",
       "      <th>time</th>\n",
       "      <th>hubs</th>\n",
       "      <th>tags</th>\n",
       "      <th>clear_text</th>\n",
       "      <th>tokens_text</th>\n",
       "    </tr>\n",
       "  </thead>\n",
       "  <tbody>\n",
       "    <tr>\n",
       "      <th>0</th>\n",
       "      <td>720724</td>\n",
       "      <td>Книга «Внутри CPYTHON: гид по интерпретатору P...</td>\n",
       "      <td>Привет, Хаброжители!\\n\\nCPython, самая популя...</td>\n",
       "      <td>6  мар   в 17:15</td>\n",
       "      <td>[Python, Профессиональная литература]</td>\n",
       "      <td>[cpyrhon]</td>\n",
       "      <td>Привет, Хаброжители!  CPython, самая популярн...</td>\n",
       "      <td>привет, хаброжители! cpython, самый популярный...</td>\n",
       "    </tr>\n",
       "    <tr>\n",
       "      <th>1</th>\n",
       "      <td>720726</td>\n",
       "      <td>Продуктовые и фиче-команды</td>\n",
       "      <td>Эта статья наверняка огорчит многих.Я сожалею ...</td>\n",
       "      <td>6  мар   в 14:35</td>\n",
       "      <td>[Управление продуктом]</td>\n",
       "      <td>[управление продуктом, product manager, фиче-к...</td>\n",
       "      <td>Эта статья наверняка огорчит многих.Я сожалею ...</td>\n",
       "      <td>этот статья наверняка огорчить многих.ть сожал...</td>\n",
       "    </tr>\n",
       "    <tr>\n",
       "      <th>2</th>\n",
       "      <td>720730</td>\n",
       "      <td>Как устроен виртуальный помощник для data-серв...</td>\n",
       "      <td>Привет! Меня зовут Александр, я главный систем...</td>\n",
       "      <td>6  мар   в 14:39</td>\n",
       "      <td>[Big Data, Хранилища данных]</td>\n",
       "      <td>[data governance, metadata, метаданные, управл...</td>\n",
       "      <td>Привет! Меня зовут Александр, я главный систем...</td>\n",
       "      <td>привет! я звать александр, я главный системный...</td>\n",
       "    </tr>\n",
       "    <tr>\n",
       "      <th>3</th>\n",
       "      <td>720732</td>\n",
       "      <td>Полный гайд по собеседованиям в IT</td>\n",
       "      <td>В прошлых статьях мы обсудили вход в IT и узна...</td>\n",
       "      <td>6  мар   в 14:40</td>\n",
       "      <td>[Учебный процесс в IT, Карьера в IT-индустрии]</td>\n",
       "      <td>[войти в айти, собеседования, подготовка, джун...</td>\n",
       "      <td>В прошлых статьях мы обсудили вход в IT и узна...</td>\n",
       "      <td>в прошлый статья мы обсудить вход в it и узнал...</td>\n",
       "    </tr>\n",
       "    <tr>\n",
       "      <th>4</th>\n",
       "      <td>720734</td>\n",
       "      <td>Зависимость вероятности увольнения сотрудников...</td>\n",
       "      <td>По ходу своей работы я давно сделал субъективн...</td>\n",
       "      <td>6  мар   в 14:47</td>\n",
       "      <td>[Управление проектами, Управление персоналом]</td>\n",
       "      <td>[управление людьми, управление проектами и ком...</td>\n",
       "      <td>По ходу своей работы я давно сделал субъективн...</td>\n",
       "      <td>по ход свой работа я давно сделать субъективны...</td>\n",
       "    </tr>\n",
       "    <tr>\n",
       "      <th>...</th>\n",
       "      <td>...</td>\n",
       "      <td>...</td>\n",
       "      <td>...</td>\n",
       "      <td>...</td>\n",
       "      <td>...</td>\n",
       "      <td>...</td>\n",
       "      <td>...</td>\n",
       "      <td>...</td>\n",
       "    </tr>\n",
       "    <tr>\n",
       "      <th>19701</th>\n",
       "      <td>768032</td>\n",
       "      <td>Xiaomi представила собственную мобильную опера...</td>\n",
       "      <td>Xiaomi выпустит новую операционную систему под...</td>\n",
       "      <td>17  окт   в 14:08</td>\n",
       "      <td>[Разработка под Android, Гаджеты, Смартфоны, И...</td>\n",
       "      <td>[xiaomi, hyperos, операционные системы, ос, мо...</td>\n",
       "      <td>Xiaomi выпустит новую операционную систему под...</td>\n",
       "      <td>xiaomi выпустить новый операционный система по...</td>\n",
       "    </tr>\n",
       "    <tr>\n",
       "      <th>19702</th>\n",
       "      <td>768034</td>\n",
       "      <td>Улучшенная маршрутизация HTTP-серверов в Go 1.22</td>\n",
       "      <td>В Go 1.22 ожидается появление интересного пред...</td>\n",
       "      <td>17  окт   в 14:17</td>\n",
       "      <td>[Go]</td>\n",
       "      <td>[mux, роутинг]</td>\n",
       "      <td>В Go 1.22 ожидается появление интересного пред...</td>\n",
       "      <td>в go 1.22 ожидаться появление интересный предл...</td>\n",
       "    </tr>\n",
       "    <tr>\n",
       "      <th>19703</th>\n",
       "      <td>768036</td>\n",
       "      <td>Беспарольный вход стал основным для пользовате...</td>\n",
       "      <td>VK ID обновил процесс авторизации пользователе...</td>\n",
       "      <td>17  окт   в 14:25</td>\n",
       "      <td>[Информационная безопасность, Социальные сети ...</td>\n",
       "      <td>[it-компании, vk id, пароли, вконтакте, соцсети]</td>\n",
       "      <td>VK ID обновил процесс авторизации пользователе...</td>\n",
       "      <td>vk id обновить процесс авторизация пользовател...</td>\n",
       "    </tr>\n",
       "    <tr>\n",
       "      <th>19704</th>\n",
       "      <td>768038</td>\n",
       "      <td>Code smells — обзор на примере PHP</td>\n",
       "      <td>Hola, Amigos! Меня зовут Евгений Шмулевский, я...</td>\n",
       "      <td>17  окт   в 14:27</td>\n",
       "      <td>[PHP, Программирование, Совершенный код]</td>\n",
       "      <td>[codesmell, php, разработка сайтов, код, прогр...</td>\n",
       "      <td>Hola, Amigos! Меня зовут Евгений Шмулевский, я...</td>\n",
       "      <td>hola, amigos! я звать евгений шмулевский, я ph...</td>\n",
       "    </tr>\n",
       "    <tr>\n",
       "      <th>19705</th>\n",
       "      <td>768040</td>\n",
       "      <td>«Сбер» перевёл свою банкоматную сеть на собств...</td>\n",
       "      <td>17 октября 2023 года «Сбер» сообщил о переводе...</td>\n",
       "      <td>17  окт   в 14:36</td>\n",
       "      <td>[Информационная безопасность, Платежные систем...</td>\n",
       "      <td>[сбер, банкомат, процессинг]</td>\n",
       "      <td>17 октября 2023 года «Сбер» сообщил о переводе...</td>\n",
       "      <td>17 октябрь 2023 год «сбер» сообщить о перевод ...</td>\n",
       "    </tr>\n",
       "  </tbody>\n",
       "</table>\n",
       "<p>19706 rows × 8 columns</p>\n",
       "</div>"
      ],
      "text/plain": [
       "           id                                              title  \\\n",
       "0      720724  Книга «Внутри CPYTHON: гид по интерпретатору P...   \n",
       "1      720726                         Продуктовые и фиче-команды   \n",
       "2      720730  Как устроен виртуальный помощник для data-серв...   \n",
       "3      720732                 Полный гайд по собеседованиям в IT   \n",
       "4      720734  Зависимость вероятности увольнения сотрудников...   \n",
       "...       ...                                                ...   \n",
       "19701  768032  Xiaomi представила собственную мобильную опера...   \n",
       "19702  768034   Улучшенная маршрутизация HTTP-серверов в Go 1.22   \n",
       "19703  768036  Беспарольный вход стал основным для пользовате...   \n",
       "19704  768038                 Code smells — обзор на примере PHP   \n",
       "19705  768040  «Сбер» перевёл свою банкоматную сеть на собств...   \n",
       "\n",
       "                                                    text               time  \\\n",
       "0       Привет, Хаброжители!\\n\\nCPython, самая популя...   6  мар   в 17:15   \n",
       "1      Эта статья наверняка огорчит многих.Я сожалею ...   6  мар   в 14:35   \n",
       "2      Привет! Меня зовут Александр, я главный систем...   6  мар   в 14:39   \n",
       "3      В прошлых статьях мы обсудили вход в IT и узна...   6  мар   в 14:40   \n",
       "4      По ходу своей работы я давно сделал субъективн...   6  мар   в 14:47   \n",
       "...                                                  ...                ...   \n",
       "19701  Xiaomi выпустит новую операционную систему под...  17  окт   в 14:08   \n",
       "19702  В Go 1.22 ожидается появление интересного пред...  17  окт   в 14:17   \n",
       "19703  VK ID обновил процесс авторизации пользователе...  17  окт   в 14:25   \n",
       "19704  Hola, Amigos! Меня зовут Евгений Шмулевский, я...  17  окт   в 14:27   \n",
       "19705  17 октября 2023 года «Сбер» сообщил о переводе...  17  окт   в 14:36   \n",
       "\n",
       "                                                    hubs  \\\n",
       "0                  [Python, Профессиональная литература]   \n",
       "1                                 [Управление продуктом]   \n",
       "2                           [Big Data, Хранилища данных]   \n",
       "3         [Учебный процесс в IT, Карьера в IT-индустрии]   \n",
       "4          [Управление проектами, Управление персоналом]   \n",
       "...                                                  ...   \n",
       "19701  [Разработка под Android, Гаджеты, Смартфоны, И...   \n",
       "19702                                               [Go]   \n",
       "19703  [Информационная безопасность, Социальные сети ...   \n",
       "19704           [PHP, Программирование, Совершенный код]   \n",
       "19705  [Информационная безопасность, Платежные систем...   \n",
       "\n",
       "                                                    tags  \\\n",
       "0                                              [cpyrhon]   \n",
       "1      [управление продуктом, product manager, фиче-к...   \n",
       "2      [data governance, metadata, метаданные, управл...   \n",
       "3      [войти в айти, собеседования, подготовка, джун...   \n",
       "4      [управление людьми, управление проектами и ком...   \n",
       "...                                                  ...   \n",
       "19701  [xiaomi, hyperos, операционные системы, ос, мо...   \n",
       "19702                                     [mux, роутинг]   \n",
       "19703   [it-компании, vk id, пароли, вконтакте, соцсети]   \n",
       "19704  [codesmell, php, разработка сайтов, код, прогр...   \n",
       "19705                       [сбер, банкомат, процессинг]   \n",
       "\n",
       "                                              clear_text  \\\n",
       "0       Привет, Хаброжители!  CPython, самая популярн...   \n",
       "1      Эта статья наверняка огорчит многих.Я сожалею ...   \n",
       "2      Привет! Меня зовут Александр, я главный систем...   \n",
       "3      В прошлых статьях мы обсудили вход в IT и узна...   \n",
       "4      По ходу своей работы я давно сделал субъективн...   \n",
       "...                                                  ...   \n",
       "19701  Xiaomi выпустит новую операционную систему под...   \n",
       "19702  В Go 1.22 ожидается появление интересного пред...   \n",
       "19703  VK ID обновил процесс авторизации пользователе...   \n",
       "19704  Hola, Amigos! Меня зовут Евгений Шмулевский, я...   \n",
       "19705  17 октября 2023 года «Сбер» сообщил о переводе...   \n",
       "\n",
       "                                             tokens_text  \n",
       "0      привет, хаброжители! cpython, самый популярный...  \n",
       "1      этот статья наверняка огорчить многих.ть сожал...  \n",
       "2      привет! я звать александр, я главный системный...  \n",
       "3      в прошлый статья мы обсудить вход в it и узнал...  \n",
       "4      по ход свой работа я давно сделать субъективны...  \n",
       "...                                                  ...  \n",
       "19701  xiaomi выпустить новый операционный система по...  \n",
       "19702  в go 1.22 ожидаться появление интересный предл...  \n",
       "19703  vk id обновить процесс авторизация пользовател...  \n",
       "19704  hola, amigos! я звать евгений шмулевский, я ph...  \n",
       "19705  17 октябрь 2023 год «сбер» сообщить о перевод ...  \n",
       "\n",
       "[19706 rows x 8 columns]"
      ]
     },
     "execution_count": 21,
     "metadata": {},
     "output_type": "execute_result"
    }
   ],
   "source": [
    "%%time\n",
    "\n",
    "df['tokens_text'] = df['clear_text'].parallel_apply(get_tokens)\n",
    "df"
   ]
  },
  {
   "cell_type": "code",
   "execution_count": 22,
   "id": "f9359d58",
   "metadata": {},
   "outputs": [],
   "source": [
    "df.to_parquet('data/df.parquet', index=False)"
   ]
  },
  {
   "cell_type": "markdown",
   "id": "e6205284",
   "metadata": {},
   "source": [
    "### Train-test split"
   ]
  },
  {
   "cell_type": "code",
   "execution_count": 23,
   "id": "e9fa6906",
   "metadata": {},
   "outputs": [],
   "source": [
    "df = pd.read_parquet('data/df.parquet')"
   ]
  },
  {
   "cell_type": "code",
   "execution_count": 24,
   "id": "d0a0fcd2",
   "metadata": {},
   "outputs": [],
   "source": [
    "df_train, df_val_test = train_test_split(df,\n",
    "                                         test_size=0.2,\n",
    "                                         random_state=42)\n",
    "df_val, df_test = train_test_split(df_val_test,\n",
    "                                   test_size=0.5,\n",
    "                                   random_state=42)"
   ]
  },
  {
   "cell_type": "code",
   "execution_count": 25,
   "id": "02f95639",
   "metadata": {},
   "outputs": [],
   "source": [
    "df_train.to_parquet('data/df_train.parquet', index=False)\n",
    "df_val.to_parquet('data/df_val.parquet', index=False)\n",
    "df_test.to_parquet('data/df_test.parquet', index=False)"
   ]
  },
  {
   "cell_type": "markdown",
   "id": "33b70e46-5f6f-4183-94b6-196fe9cb01dc",
   "metadata": {},
   "source": [
    "### MLFlow"
   ]
  },
  {
   "cell_type": "code",
   "execution_count": 6,
   "id": "65162efb-cb77-4e08-9ef4-28b21d3edcb8",
   "metadata": {},
   "outputs": [],
   "source": [
    "mlflow.set_tracking_uri(f'http://{mlflow_server_ip}:1234')"
   ]
  },
  {
   "cell_type": "markdown",
   "id": "001ef4a4",
   "metadata": {},
   "source": [
    "## Метрики"
   ]
  },
  {
   "cell_type": "markdown",
   "id": "b23ea657",
   "metadata": {},
   "source": [
    "Количество угаданных хабов"
   ]
  },
  {
   "cell_type": "code",
   "execution_count": 7,
   "id": "ee5e0274",
   "metadata": {},
   "outputs": [],
   "source": [
    "def intersection_hubs(true_hubs, pred_hubs):\n",
    "    intersection = 0\n",
    "    for hub in true_hubs:\n",
    "        if hub in pred_hubs:\n",
    "            intersection += 1\n",
    "    return intersection"
   ]
  },
  {
   "cell_type": "markdown",
   "id": "a2b40b3f",
   "metadata": {},
   "source": [
    "Доля угаданных хабов из топ-k предсказанных"
   ]
  },
  {
   "cell_type": "code",
   "execution_count": 8,
   "id": "8c829e78",
   "metadata": {},
   "outputs": [],
   "source": [
    "def precision_hubs(true_hubs, pred_hubs):\n",
    "    intersection = intersection_hubs(true_hubs, pred_hubs)\n",
    "    precision = intersection / len(pred_hubs)\n",
    "    return precision"
   ]
  },
  {
   "cell_type": "markdown",
   "id": "b5a49fdf",
   "metadata": {},
   "source": [
    "Доля угаданных хабов из возможных"
   ]
  },
  {
   "cell_type": "code",
   "execution_count": 9,
   "id": "97186916",
   "metadata": {},
   "outputs": [],
   "source": [
    "def recall_hubs(true_hubs, pred_hubs):\n",
    "    len_true_hubs = len(true_hubs)\n",
    "    if len_true_hubs == 0:\n",
    "        recall = 1\n",
    "    else:\n",
    "        intersection = intersection_hubs(true_hubs, pred_hubs)\n",
    "        recall = intersection / len_true_hubs\n",
    "    return recall"
   ]
  },
  {
   "cell_type": "markdown",
   "id": "42690ff8",
   "metadata": {},
   "source": [
    "Геометрическое среднее двух метрик выше"
   ]
  },
  {
   "cell_type": "code",
   "execution_count": 10,
   "id": "fa9cd45e",
   "metadata": {},
   "outputs": [],
   "source": [
    "def f1_score(precision, recall):\n",
    "    pr_plus_rec = precision + recall\n",
    "    if pr_plus_rec == 0:\n",
    "        f1 = 0\n",
    "    else:\n",
    "        f1 = 2*precision*recall/pr_plus_rec\n",
    "    return f1"
   ]
  },
  {
   "cell_type": "markdown",
   "id": "5bf96dc4",
   "metadata": {},
   "source": [
    "## Baseline Const"
   ]
  },
  {
   "cell_type": "code",
   "execution_count": null,
   "id": "06fb74c4-6e9f-49ae-ac45-85deba5d63ff",
   "metadata": {},
   "outputs": [],
   "source": [
    "baseline_const_exp = 'baseline_const'\n",
    "run_name = 'const'\n",
    "\n",
    "mlflow.set_experiment(baseline_const_exp)"
   ]
  },
  {
   "cell_type": "code",
   "execution_count": null,
   "id": "dc6f6444",
   "metadata": {},
   "outputs": [],
   "source": [
    "df_train = pd.read_parquet('data/df_train.parquet')\n",
    "df_test = pd.read_parquet('data/df_test.parquet')"
   ]
  },
  {
   "cell_type": "code",
   "execution_count": null,
   "id": "6fb5a15a",
   "metadata": {},
   "outputs": [],
   "source": [
    "K = 5"
   ]
  },
  {
   "cell_type": "code",
   "execution_count": null,
   "id": "5f81f18d",
   "metadata": {},
   "outputs": [],
   "source": [
    "top_k_hubs = pd.Series([i for j in df_train['hubs'].values for i in j]).value_counts().index[:K]\n",
    "top_k_hubs"
   ]
  },
  {
   "cell_type": "code",
   "execution_count": 17,
   "id": "fce774bb",
   "metadata": {},
   "outputs": [],
   "source": [
    "df_test['pred_hubs_base'] = [top_k_hubs.copy() for _ in range(len(df_test))]\n",
    "df_test['precision_base'] = df_test.apply(lambda row: precision_hubs(row['hubs'], row['pred_hubs_base']), axis=1)\n",
    "df_test['recall_base'] = df_test.apply(lambda row: recall_hubs(row['hubs'], row['pred_hubs_base']), axis=1)\n",
    "df_test['f1_base'] = df_test.apply(lambda row: f1_score(row['precision_base'], row['recall_base']), axis=1)\n",
    "precision_baseline = round(df_test['precision_base'].mean(), 6)\n",
    "recall_baseline = round(df_test['recall_base'].mean(), 6)\n",
    "f1_baseline = round(df_test['f1_base'].mean(), 6)"
   ]
  },
  {
   "cell_type": "code",
   "execution_count": 19,
   "id": "d212f6c5-7d3b-404d-af03-519fc6cb35b7",
   "metadata": {},
   "outputs": [],
   "source": [
    "metrics = {\n",
    "    'precision': precision_baseline,\n",
    "    'recall': recall_baseline,\n",
    "    'f1': f1_baseline,\n",
    "}\n",
    "\n",
    "with mlflow.start_run(run_name=run_name):\n",
    "    mlflow.log_param('K', K)\n",
    "    mlflow.log_metrics(metrics)"
   ]
  },
  {
   "cell_type": "code",
   "execution_count": 20,
   "id": "e6ceabe7",
   "metadata": {},
   "outputs": [
    {
     "name": "stdout",
     "output_type": "stream",
     "text": [
      "Метрики baseline решения:\n",
      "Precision@5 - 0.105429\n",
      "Recall@5 - 0.191646\n",
      "F1@5 - 0.130867\n"
     ]
    }
   ],
   "source": [
    "print('Метрики baseline решения:')\n",
    "print(f'Precision@{K} - {precision_baseline}')\n",
    "print(f'Recall@{K} - {recall_baseline}')\n",
    "print(f'F1@{K} - {f1_baseline}')"
   ]
  },
  {
   "cell_type": "code",
   "execution_count": 21,
   "id": "98c7c9b9",
   "metadata": {},
   "outputs": [],
   "source": [
    "df_test.to_csv('data/df_test.csv', index=False)"
   ]
  },
  {
   "cell_type": "markdown",
   "id": "2402d3ed",
   "metadata": {},
   "source": [
    "## Обучение модели"
   ]
  },
  {
   "cell_type": "markdown",
   "id": "5d9a496d",
   "metadata": {},
   "source": [
    "### TF-IDF векторизация"
   ]
  },
  {
   "cell_type": "code",
   "execution_count": 43,
   "id": "90ad7d45",
   "metadata": {},
   "outputs": [],
   "source": [
    "df_train = pd.read_parquet('data/df_train.parquet')\n",
    "df_val = pd.read_parquet('data/df_val.parquet')"
   ]
  },
  {
   "cell_type": "code",
   "execution_count": 44,
   "id": "a304b83a",
   "metadata": {},
   "outputs": [
    {
     "name": "stdout",
     "output_type": "stream",
     "text": [
      "Размер tf-idf вектора: 47751\n",
      "CPU times: user 14.9 s, sys: 3.23 s, total: 18.2 s\n",
      "Wall time: 18.7 s\n"
     ]
    }
   ],
   "source": [
    "%%time\n",
    "\n",
    "stop_words = nltk.corpus.stopwords.words(\"russian\")\n",
    "tfidf_vectorizer = TfidfVectorizer(analyzer='word', min_df=10, stop_words=stop_words)\n",
    "df_train['tfidf_vec'] = [i for i in tfidf_vectorizer.fit_transform(df_train['tokens_text'].values).toarray()]\n",
    "df_val['tfidf_vec'] = [i for i in tfidf_vectorizer.transform(df_val['tokens_text'].values).toarray()]\n",
    "size_vector = len(df_train['tfidf_vec'].values[0])\n",
    "print(f'Размер tf-idf вектора: {size_vector}')"
   ]
  },
  {
   "cell_type": "code",
   "execution_count": 45,
   "id": "373bfa62",
   "metadata": {},
   "outputs": [],
   "source": [
    "with open('data/tfidf_vectorizer.pkl', 'wb') as f:\n",
    "    pickle.dump(tfidf_vectorizer, f)"
   ]
  },
  {
   "cell_type": "markdown",
   "id": "49fdf53c",
   "metadata": {},
   "source": [
    "### Neural Network"
   ]
  },
  {
   "cell_type": "markdown",
   "id": "987237b8",
   "metadata": {},
   "source": [
    "Dataset"
   ]
  },
  {
   "cell_type": "code",
   "execution_count": 46,
   "id": "62b8c1ae",
   "metadata": {},
   "outputs": [
    {
     "name": "stdout",
     "output_type": "stream",
     "text": [
      "Предлагаем из 260 хабов\n"
     ]
    }
   ],
   "source": [
    "count_hubs = pd.Series([i for j in df_train['hubs'].values for i in j]).value_counts()\n",
    "all_hubs = count_hubs.index\n",
    "hub2id = dict(zip(all_hubs, range(len(all_hubs))))\n",
    "id2hub = {j: i for i, j in hub2id.items()}\n",
    "num_hubs = len(hub2id)\n",
    "print(f'Предлагаем из {num_hubs} хабов')"
   ]
  },
  {
   "cell_type": "code",
   "execution_count": 47,
   "id": "480bcc2e",
   "metadata": {},
   "outputs": [],
   "source": [
    "def transform_target(hubs):\n",
    "    vector = np.zeros(num_hubs)\n",
    "    for hub in hubs:\n",
    "        vector[hub] = 1\n",
    "    return vector"
   ]
  },
  {
   "cell_type": "code",
   "execution_count": 48,
   "id": "1f63c72a",
   "metadata": {},
   "outputs": [],
   "source": [
    "class Dataset_hubs(Dataset):\n",
    "    def __init__(self, df):\n",
    "        self.vecs = df['tfidf_vec'].values\n",
    "        self.hubs = df['hubs'].apply(lambda hubs: transform_target([hub2id[hub] for hub in hubs if hub in hub2id])).values\n",
    "        \n",
    "    def __getitem__(self, index):\n",
    "        return self.vecs[index], self.hubs[index]\n",
    "\n",
    "    def __len__(self):\n",
    "        return len(self.vecs)"
   ]
  },
  {
   "cell_type": "code",
   "execution_count": 49,
   "id": "34ed3b20",
   "metadata": {},
   "outputs": [],
   "source": [
    "train_data = Dataset_hubs(df_train)\n",
    "val_data = Dataset_hubs(df_val)"
   ]
  },
  {
   "cell_type": "markdown",
   "id": "9a30636e",
   "metadata": {},
   "source": [
    "DataLoader"
   ]
  },
  {
   "cell_type": "code",
   "execution_count": 50,
   "id": "4f2d29a1",
   "metadata": {},
   "outputs": [],
   "source": [
    "batch_size = 2048\n",
    "train_loader = DataLoader(train_data, batch_size=batch_size, shuffle=True)\n",
    "val_loader = DataLoader(val_data, batch_size=batch_size)"
   ]
  },
  {
   "cell_type": "markdown",
   "id": "79cd967a",
   "metadata": {},
   "source": [
    "Метрики"
   ]
  },
  {
   "cell_type": "code",
   "execution_count": 51,
   "id": "db018552",
   "metadata": {},
   "outputs": [],
   "source": [
    "K = 5"
   ]
  },
  {
   "cell_type": "markdown",
   "id": "17f73e9e",
   "metadata": {},
   "source": [
    "Доля угаданных хабов из топ-k предсказанных"
   ]
  },
  {
   "cell_type": "code",
   "execution_count": 52,
   "id": "18436f1d",
   "metadata": {},
   "outputs": [],
   "source": [
    "def precision_vectors(y_true, y_pred):\n",
    "    intersection = y_true@y_pred\n",
    "    precision = intersection / sum(y_pred)\n",
    "    return precision"
   ]
  },
  {
   "cell_type": "markdown",
   "id": "e7bbeec3",
   "metadata": {},
   "source": [
    "Доля угаданных хабов из возможных"
   ]
  },
  {
   "cell_type": "code",
   "execution_count": 53,
   "id": "e588ad26",
   "metadata": {},
   "outputs": [],
   "source": [
    "def recall_vectors(y_true, y_pred):\n",
    "    num_true_hubs = sum(y_true == 1)\n",
    "    if num_true_hubs == 0:\n",
    "        recall = 1\n",
    "    else:\n",
    "        intersection = y_true@y_pred\n",
    "        recall = intersection / num_true_hubs\n",
    "    return recall"
   ]
  },
  {
   "cell_type": "markdown",
   "id": "c2fb6f18",
   "metadata": {},
   "source": [
    "Геометрическое среднее двух метрик выше"
   ]
  },
  {
   "cell_type": "code",
   "execution_count": 54,
   "id": "bf5c796a",
   "metadata": {},
   "outputs": [],
   "source": [
    "def f1_score(precision, recall):\n",
    "    pr_plus_rec = precision + recall\n",
    "    if pr_plus_rec == 0:\n",
    "        f1 = 0\n",
    "    else:\n",
    "        f1 = 2*precision*recall/pr_plus_rec\n",
    "    return f1"
   ]
  },
  {
   "cell_type": "markdown",
   "id": "e0f36d83",
   "metadata": {},
   "source": [
    "Модель"
   ]
  },
  {
   "cell_type": "code",
   "execution_count": 55,
   "id": "ccaf9871",
   "metadata": {},
   "outputs": [],
   "source": [
    "class Model_hubs(nn.Module):\n",
    "    def __init__(self, size_in, size_hide, size_out):\n",
    "        super().__init__()\n",
    "        self.linear_1 = nn.Linear(size_in, size_hide)\n",
    "        self.bn = nn.BatchNorm1d(size_hide)\n",
    "        self.tanh = nn.Tanh()\n",
    "        self.dp = nn.Dropout(0.8)\n",
    "        self.linear_2 = nn.Linear(size_hide, size_out)\n",
    "        \n",
    "    def forward(self, x):\n",
    "        x = x.to(torch.float32)\n",
    "        x = self.linear_1(x)\n",
    "        x = self.bn(x)\n",
    "        x = self.tanh(x)\n",
    "        x = self.dp(x)\n",
    "        x = self.linear_2(x)\n",
    "        return x\n",
    "\n",
    "    def predict(self, text, del_puncts, get_tokens, tfidf_vectorizer, id2hub, k=5, device='cpu'):\n",
    "        clear_text = del_puncts(text)\n",
    "        tokens_text = get_tokens(clear_text)\n",
    "        tfidf_vector = tfidf_vectorizer.transform([tokens_text]).toarray()[0]\n",
    "        output = self.forward(torch.tensor(np.array([tfidf_vector])).to(device)).detach().cpu().numpy()[0]\n",
    "        preds = np.argsort(output)[::-1][:k]\n",
    "        scores = output[preds]\n",
    "        hubs = [id2hub[id_hub] for id_hub in preds]\n",
    "        return list(zip(hubs, scores))"
   ]
  },
  {
   "cell_type": "markdown",
   "id": "ed8a7be3",
   "metadata": {},
   "source": [
    "Фиксация seed"
   ]
  },
  {
   "cell_type": "code",
   "execution_count": 56,
   "id": "db668978",
   "metadata": {},
   "outputs": [],
   "source": [
    "def set_seed(seed=42):\n",
    "    np.random.seed(seed)\n",
    "    random.seed(seed)\n",
    "    torch.manual_seed(seed)\n",
    "    torch.cuda.manual_seed(seed)\n",
    "    torch.backends.cudnn.deterministic = True\n",
    "    torch.backends.cudnn.benchmark = False\n",
    "    os.environ[\"PYTHONHASHSEED\"] = str(seed)"
   ]
  },
  {
   "cell_type": "markdown",
   "id": "f963369b",
   "metadata": {},
   "source": [
    "Обучение"
   ]
  },
  {
   "cell_type": "code",
   "execution_count": 57,
   "id": "6f5bdc64-f69c-4b34-a1a9-e70e3fc50c04",
   "metadata": {},
   "outputs": [
    {
     "data": {
      "text/plain": [
       "<ActiveRun: >"
      ]
     },
     "execution_count": 57,
     "metadata": {},
     "output_type": "execute_result"
    }
   ],
   "source": [
    "mvp_model_exp = 'mvp'\n",
    "run_name = 'basic'\n",
    "\n",
    "mlflow.set_experiment(mvp_model_exp)\n",
    "\n",
    "mlflow.start_run(run_name=run_name)"
   ]
  },
  {
   "cell_type": "code",
   "execution_count": 58,
   "id": "bcdd70fb",
   "metadata": {},
   "outputs": [
    {
     "data": {
      "text/plain": [
       "'cpu'"
      ]
     },
     "execution_count": 58,
     "metadata": {},
     "output_type": "execute_result"
    }
   ],
   "source": [
    "device = 'cuda' if torch.cuda.is_available() else 'cpu'\n",
    "device\n",
    "\n",
    "mlflow.log_param('device', device)"
   ]
  },
  {
   "cell_type": "code",
   "execution_count": 59,
   "id": "a5df73c3",
   "metadata": {},
   "outputs": [
    {
     "name": "stdout",
     "output_type": "stream",
     "text": [
      "Размер tf-idf вектора: 47751\n"
     ]
    },
    {
     "data": {
      "text/plain": [
       "'TfidfVectorizer'"
      ]
     },
     "execution_count": 59,
     "metadata": {},
     "output_type": "execute_result"
    }
   ],
   "source": [
    "size_vector = len(df_train['tfidf_vec'].values[0])\n",
    "print(f'Размер tf-idf вектора: {size_vector}')\n",
    "\n",
    "mlflow.log_param('vectorizer', 'TfidfVectorizer')"
   ]
  },
  {
   "cell_type": "code",
   "execution_count": 60,
   "id": "253bee3a",
   "metadata": {},
   "outputs": [
    {
     "data": {
      "text/plain": [
       "Model_hubs(\n",
       "  (linear_1): Linear(in_features=47751, out_features=1000, bias=True)\n",
       "  (bn): BatchNorm1d(1000, eps=1e-05, momentum=0.1, affine=True, track_running_stats=True)\n",
       "  (tanh): Tanh()\n",
       "  (dp): Dropout(p=0.8, inplace=False)\n",
       "  (linear_2): Linear(in_features=1000, out_features=260, bias=True)\n",
       ")"
      ]
     },
     "execution_count": 60,
     "metadata": {},
     "output_type": "execute_result"
    }
   ],
   "source": [
    "set_seed(42)\n",
    "model = Model_hubs(size_in=size_vector, \n",
    "                   size_hide=1_000,\n",
    "                   size_out=num_hubs).to(device)\n",
    "mlflow.log_param('dropout', 0.8)\n",
    "mlflow.log_param('size_hide', 1000)\n",
    "\n",
    "model.train()"
   ]
  },
  {
   "cell_type": "code",
   "execution_count": 61,
   "id": "e6def648",
   "metadata": {},
   "outputs": [
    {
     "name": "stdout",
     "output_type": "stream",
     "text": [
      "Количество обучаемых параметров: 48014260\n"
     ]
    }
   ],
   "source": [
    "num_params = sum([param.nelement() for param in model.parameters()])\n",
    "print(f'Количество обучаемых параметров: {num_params}')"
   ]
  },
  {
   "cell_type": "code",
   "execution_count": 62,
   "id": "67c69329",
   "metadata": {},
   "outputs": [],
   "source": [
    "balance_hubs = count_hubs.values.max() / count_hubs.values"
   ]
  },
  {
   "cell_type": "code",
   "execution_count": 63,
   "id": "f6e46cab",
   "metadata": {},
   "outputs": [],
   "source": [
    "set_seed(42)\n",
    "optimizer = torch.optim.Adam(model.parameters(), lr=0.01)\n",
    "criterion = torch.nn.CrossEntropyLoss(weight=torch.tensor(balance_hubs).float().to(device))"
   ]
  },
  {
   "cell_type": "code",
   "execution_count": null,
   "id": "e33df3f8",
   "metadata": {},
   "outputs": [
    {
     "name": "stderr",
     "output_type": "stream",
     "text": [
      "  0%|                                                                                                                                                 | 0/8 [00:00<?, ?it/s]"
     ]
    }
   ],
   "source": [
    "%%time\n",
    "\n",
    "epochs = 20\n",
    "\n",
    "set_seed(42)\n",
    "\n",
    "for epoch_num in range(epochs):\n",
    "    \n",
    "    train_loss = 0\n",
    "    train_pr = 0\n",
    "    train_rec = 0\n",
    "    train_f1 = 0\n",
    "    val_loss = 0\n",
    "    val_pr = 0\n",
    "    val_rec = 0\n",
    "    val_f1 = 0\n",
    "    \n",
    "    model.train()\n",
    "    for data, hubs in tqdm(train_loader):\n",
    "        data = data.to(device)\n",
    "        hubs = hubs.to(device)\n",
    "        output = model(data)\n",
    "        loss = criterion(output, hubs)\n",
    "        train_loss += loss.item()\n",
    "        output = output.detach().cpu().numpy()\n",
    "        hubs = hubs.detach().cpu().numpy()\n",
    "        for i in range(len(output)):\n",
    "            output_i = output[i]\n",
    "            hubs_i = hubs[i]\n",
    "            preds = transform_target(np.argsort(output_i)[::-1][:K])\n",
    "            pr = precision_vectors(hubs_i, preds)\n",
    "            rec = recall_vectors(hubs_i, preds)\n",
    "            f1 = f1_score(pr, rec)\n",
    "            train_pr += pr\n",
    "            train_rec += rec\n",
    "            train_f1 += f1\n",
    "        model.zero_grad()\n",
    "        loss.backward()\n",
    "        optimizer.step()\n",
    "        \n",
    "    model.eval()\n",
    "    for data, hubs in tqdm(val_loader):\n",
    "        data = data.to(device)\n",
    "        hubs = hubs.to(device)\n",
    "        output = model(data)\n",
    "        loss = criterion(output, hubs)\n",
    "        val_loss += loss.item()\n",
    "        output = output.detach().cpu().numpy()\n",
    "        hubs = hubs.detach().cpu().numpy()\n",
    "        for i in range(len(output)):\n",
    "            output_i = output[i]\n",
    "            hubs_i = hubs[i]\n",
    "            preds = transform_target(np.argsort(output_i)[::-1][:K])\n",
    "            pr = precision_vectors(hubs_i, preds)\n",
    "            rec = recall_vectors(hubs_i, preds)\n",
    "            f1 = f1_score(pr, rec)\n",
    "            val_pr += pr\n",
    "            val_rec += rec\n",
    "            val_f1 += f1\n",
    "        \n",
    "    train_loss = round(train_loss / len(train_data), 6)\n",
    "    train_pr = round(train_pr / len(train_data), 6)\n",
    "    train_rec = round(train_rec / len(train_data), 6)\n",
    "    train_f1 = round(train_f1 / len(train_data), 6)\n",
    "    val_loss = round(val_loss / len(val_data), 6)\n",
    "    val_pr = round(val_pr / len(val_data), 6)\n",
    "    val_rec = round(val_rec / len(val_data), 6)\n",
    "    val_f1 = round(val_f1 / len(val_data), 6)\n",
    "    \n",
    "    \n",
    "    print(\n",
    "        f\"Epochs: {epoch_num + 1} | Train Loss: {train_loss} \\\n",
    "        | Train Precision: {train_pr} | Train Recall: {train_rec} | Train F1: {train_f1} \\\n",
    "        \" + \"\\n\" + \" \"*len(str(epoch_num + 1)) +\n",
    "f\"         | Val Loss: {val_loss}   \\\n",
    "        | Val Precision: {val_pr}   | Val Recall: {val_rec}   | Val F1: {val_f1}\")"
   ]
  },
  {
   "cell_type": "code",
   "execution_count": 33,
   "id": "d1e3eed8",
   "metadata": {
    "scrolled": true
   },
   "outputs": [],
   "source": [
    "torch.save(model, \"data/model.pth\")"
   ]
  },
  {
   "cell_type": "code",
   "execution_count": 34,
   "id": "0c8b8aa0",
   "metadata": {},
   "outputs": [],
   "source": [
    "with open('data/id2hub.pkl', 'wb') as f:\n",
    "    pickle.dump(id2hub, f)"
   ]
  },
  {
   "cell_type": "markdown",
   "id": "d262d8ba",
   "metadata": {},
   "source": [
    "## Тест модели"
   ]
  },
  {
   "cell_type": "code",
   "execution_count": 35,
   "id": "98f35b45",
   "metadata": {},
   "outputs": [],
   "source": [
    "model = torch.load('data/model.pth')\n",
    "df_train = pd.read_parquet('data/df_train.parquet')\n",
    "df_val = pd.read_parquet('data/df_val.parquet')\n",
    "df_test = pd.read_parquet('data/df_test.parquet')\n",
    "df_train['hubs'] = df_train['hubs'].apply(eval)\n",
    "df_val['hubs'] = df_val['hubs'].apply(eval)\n",
    "df_test['hubs'] = df_test['hubs'].apply(eval)\n",
    "df_train['tags'] = df_train['tags'].apply(eval)\n",
    "df_val['tags'] = df_val['tags'].apply(eval)\n",
    "df_test['tags'] = df_test['tags'].apply(eval)\n",
    "with open('data/tfidf_vectorizer.pkl', 'rb') as f:\n",
    "    tfidf_vectorizer = pickle.load(f)\n",
    "with open('data/id2hub.pkl', 'rb') as f:\n",
    "    id2hub = pickle.load(f)"
   ]
  },
  {
   "cell_type": "code",
   "execution_count": 36,
   "id": "ba5a337e",
   "metadata": {},
   "outputs": [],
   "source": [
    "# puncts = '.,\"\\'?!:;()[]{}<>-–‐—_/\\\\|*&%$€£¥₽#@^+=~`«»“”‘’0123456789'\n",
    "# puncts = '.,\"\\'?!:;()[]{}<>-–‐—_/\\\\|*&%$€£¥₽#@^+=~`«»“”‘’'\n",
    "# puncts = '.,\"\\'?!:()-–‐—`«»“”‘’'\n",
    "puncts = ''\n",
    "def del_puncts(text, puncts=puncts):\n",
    "    return ''.join([symbol if symbol not in puncts else ' ' for symbol in text.replace('\\t', ' ').replace('\\n', ' ')])"
   ]
  },
  {
   "cell_type": "code",
   "execution_count": 37,
   "id": "1a542988",
   "metadata": {},
   "outputs": [],
   "source": [
    "morph = MorphAnalyzer()\n",
    "def get_tokens(text, morph=morph):\n",
    "    return ' '.join([morph.parse(word)[0].normal_form for word in text.split() if word != ''])"
   ]
  },
  {
   "cell_type": "code",
   "execution_count": 38,
   "id": "8f04f583",
   "metadata": {},
   "outputs": [
    {
     "data": {
      "text/plain": [
       "'cpu'"
      ]
     },
     "execution_count": 38,
     "metadata": {},
     "output_type": "execute_result"
    }
   ],
   "source": [
    "device = 'cuda' if torch.cuda.is_available() else 'cpu'\n",
    "device"
   ]
  },
  {
   "cell_type": "code",
   "execution_count": 39,
   "id": "a1de9e04",
   "metadata": {},
   "outputs": [],
   "source": [
    "K=5"
   ]
  },
  {
   "cell_type": "markdown",
   "id": "8caa18b0",
   "metadata": {},
   "source": [
    "До этого метрики считались только по num_hubs предсказываемым хабам\n",
    "\n",
    "Фактические метрики на тестовой выборке:"
   ]
  },
  {
   "cell_type": "code",
   "execution_count": 40,
   "id": "3bcf39ba",
   "metadata": {},
   "outputs": [
    {
     "name": "stderr",
     "output_type": "stream",
     "text": [
      "100%|███████████████████████████████████████████████████████████████████████████████████████████████████████████████████████████████████| 1971/1971 [06:44<00:00,  4.88it/s]\n"
     ]
    }
   ],
   "source": [
    "df_test['pred_hubs_nn'] = df_test['text'].progress_apply(lambda text: model.predict(text, \n",
    "                                                                               del_puncts, \n",
    "                                                                               get_tokens, \n",
    "                                                                               tfidf_vectorizer, \n",
    "                                                                               id2hub, \n",
    "                                                                               K, \n",
    "                                                                               device))\n",
    "df_test['pred_scores_nn'] = df_test['pred_hubs_nn'].apply(lambda hubs_scores: [hub_score[1] for hub_score in hubs_scores])\n",
    "df_test['pred_hubs_nn'] = df_test['pred_hubs_nn'].apply(lambda hubs_scores: [hub_score[0] for hub_score in hubs_scores])"
   ]
  },
  {
   "cell_type": "code",
   "execution_count": 41,
   "id": "a0de6476",
   "metadata": {},
   "outputs": [],
   "source": [
    "df_test['precision_nn'] = df_test.apply(lambda row: precision_hubs(row['hubs'], row['pred_hubs_nn']), axis=1)\n",
    "df_test['recall_nn'] = df_test.apply(lambda row: recall_hubs(row['hubs'], row['pred_hubs_nn']), axis=1)\n",
    "df_test['f1_nn'] = df_test.apply(lambda row: f1_score(row['precision_nn'], row['recall_nn']), axis=1)\n",
    "precision_baseline = round(df_test['precision_nn'].mean(), 6)\n",
    "recall_baseline = round(df_test['recall_nn'].mean(), 6)\n",
    "f1_baseline = round(df_test['f1_nn'].mean(), 6)"
   ]
  },
  {
   "cell_type": "code",
   "execution_count": 42,
   "id": "098b7fb0-3398-4ffa-a20e-326ad7e4ea74",
   "metadata": {},
   "outputs": [],
   "source": [
    "metrics = {\n",
    "    'precision': precision_baseline,\n",
    "    'recall': recall_baseline,\n",
    "    'f1': f1_baseline,\n",
    "}\n",
    "\n",
    "mlflow.log_metrics(metrics)\n",
    "mlflow.end_run()"
   ]
  },
  {
   "cell_type": "code",
   "execution_count": 42,
   "id": "d7eed098",
   "metadata": {},
   "outputs": [
    {
     "name": "stdout",
     "output_type": "stream",
     "text": [
      "Метрики Neural Network решения:\n",
      "Precision@5 - 0.401015\n",
      "Recall@5 - 0.745789\n",
      "F1@5 - 0.500357\n"
     ]
    }
   ],
   "source": [
    "print('Метрики Neural Network решения:')\n",
    "print(f'Precision@{K} - {precision_baseline}')\n",
    "print(f'Recall@{K} - {recall_baseline}')\n",
    "print(f'F1@{K} - {f1_baseline}')"
   ]
  },
  {
   "cell_type": "code",
   "execution_count": 43,
   "id": "19f11122",
   "metadata": {},
   "outputs": [],
   "source": [
    "df_test.to_csv('data/df_test.csv', index=False)"
   ]
  },
  {
   "cell_type": "markdown",
   "id": "c03cb73d",
   "metadata": {},
   "source": [
    "Случайный пример"
   ]
  },
  {
   "cell_type": "code",
   "execution_count": 68,
   "id": "26b4868c",
   "metadata": {},
   "outputs": [
    {
     "name": "stdout",
     "output_type": "stream",
     "text": [
      "Частная космическая компания Relativity Space планирует отказаться от использования напечатанной на 3D-принтере ракеты Terran 1 спустя несколько недель после первых испытаний носителя. Производитель намерен сосредоточиться на запусках более крупной ракеты Terran R в надежде удовлетворить потребности рынка и успешнее конкурировать с лидером отрасли — SpaceX.Relativity впервые запустила Terran 1 22 марта, однако ракета не смогла достичь орбиты из-за отказа двигателя. Переход на использование Terran R означает, что компания не будет проводить дополнительные старты до 2026 года, пока ракета не будет готова к полёту.Главный исполнительный директор Relativity Тим Эллис назвал это решение «очевидным выбором», поскольку запуски больших грузов сейчас пользуются повышенным спросом. Он считает, что «на рынке просто нет хороших решений».Компания сообщила о разработке Terran R в 2021 году. По словам Эллиса, большинство клиентов Relativity оказались довольны изменением направления, они согласились перейти на проект более крупной ракеты.За последнее десятилетие такие компании, как Relativity, старались извлечь выгоду из запусков малых спутников. Однако это удаётся не всем: основанная Ричардом Брэнсоном Virgin Orbit недавно объявила о банкротстве из-за отсутствия финансирования. Лидеры отрасли утверждают, что рынок может не поддерживать более двух компаний, занимающихся запуском малых спутников.Спрос сместился в сторону ракет-носителей средней и большой грузоподъёмности, поскольку клиенты сосредоточились на создании массивных спутниковых группировок, подобных Starlink от SpaceX. В этой сфере существует значительный дефицит, отметил управляющий партнёр космической венчурной компании Space Capital Чед Андерсон. Он указал на нехватку крупных ракет.Terran R будет способна доставить на низкую околоземную орбиту от 23,5 т до 33,5 т, уверяет Эллис. Это сопоставимо с возможностями ракеты Falcon 9 от SpaceX.Relativity учредили в 2016 году, компания специализируется на ракетах, которые преимущественно состоят из напечатанных на 3D-принтере компонентов. Летом 2021 года Relativity привлекла $1,3 млрд, её оценили в $4,2 млрд. По данным компании, 85% компонентов Terran 1 напечатали на 3D-принтере, ракета использует двигатели на метане. Эллис подчёркивает, что Terran R будет меньше полагаться на 3D-печать, Relativity планирует повторно использовать первую ступень ракеты.Производитель продолжает переговоры с НАСА, чтобы перенести контрактный запуск по программе Venture Class Launch Services с Terran 1 на Terran R. Общая сумма проданных контрактов на Terran 1 составила сотни миллионов долларов, рассказал Эллис.  \n",
      "['Космонавтика', 'Будущее здесь', 'IT-компании']\n"
     ]
    }
   ],
   "source": [
    "i_test = 1\n",
    "test_i = df_test[['text', 'hubs']].values[i_test]\n",
    "test_text_i = test_i[0]\n",
    "test_hubs_i = test_i[1]\n",
    "print(test_text_i)\n",
    "print(test_hubs_i)"
   ]
  },
  {
   "cell_type": "code",
   "execution_count": 69,
   "id": "e477402b",
   "metadata": {},
   "outputs": [
    {
     "data": {
      "text/plain": [
       "[('Космонавтика', 8.316977),\n",
       " ('3D-принтеры', 6.516875),\n",
       " ('Научно-популярное', 5.417019),\n",
       " ('Будущее здесь', 4.4825034),\n",
       " ('Астрономия', 4.4024477)]"
      ]
     },
     "execution_count": 69,
     "metadata": {},
     "output_type": "execute_result"
    }
   ],
   "source": [
    "model.predict(test_text_i, del_puncts, get_tokens, tfidf_vectorizer, id2hub, K, device)"
   ]
  },
  {
   "cell_type": "code",
   "execution_count": null,
   "id": "cec20b00",
   "metadata": {},
   "outputs": [],
   "source": []
  }
 ],
 "metadata": {
  "kernelspec": {
   "display_name": "Python 3 (ipykernel)",
   "language": "python",
   "name": "python3"
  },
  "language_info": {
   "codemirror_mode": {
    "name": "ipython",
    "version": 3
   },
   "file_extension": ".py",
   "mimetype": "text/x-python",
   "name": "python",
   "nbconvert_exporter": "python",
   "pygments_lexer": "ipython3",
   "version": "3.10.12"
  }
 },
 "nbformat": 4,
 "nbformat_minor": 5
}
