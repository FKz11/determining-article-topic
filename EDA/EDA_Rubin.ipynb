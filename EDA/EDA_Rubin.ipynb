{
 "cells": [
  {
   "cell_type": "markdown",
   "id": "90a9d50a",
   "metadata": {},
   "source": [
    "### Exploratory Data Analysis"
   ]
  },
  {
   "cell_type": "markdown",
   "id": "347cc633",
   "metadata": {},
   "source": [
    "Для того чтобы провести разведочный анализ данных необходимо их загрузить. Данные хранятся в сериализованном формате pickle на S3, загрузим их и десериализуем с помощью pickle."
   ]
  },
  {
   "cell_type": "code",
   "execution_count": 6,
   "id": "fe555ec6",
   "metadata": {},
   "outputs": [
    {
     "name": "stdout",
     "output_type": "stream",
     "text": [
      "--2023-11-14 12:44:41--  https://storage.yandexcloud.net/habr-hse/datasets/2023/articles.pkl\n",
      "Resolving storage.yandexcloud.net (storage.yandexcloud.net)... 213.180.193.243, 2a02:6b8::1d9\n",
      "Connecting to storage.yandexcloud.net (storage.yandexcloud.net)|213.180.193.243|:443... connected.\n",
      "HTTP request sent, awaiting response... 200 OK\n",
      "Length: 310615187 (296M) [application/octet-stream]\n",
      "Saving to: ‘articles.pkl’\n",
      "\n",
      "articles.pkl        100%[===================>] 296.23M  56.9MB/s    in 4.9s    \n",
      "\n",
      "2023-11-14 12:44:46 (60.4 MB/s) - ‘articles.pkl’ saved [310615187/310615187]\n",
      "\n"
     ]
    }
   ],
   "source": [
    "# загружаем данные\n",
    "!wget https://storage.yandexcloud.net/habr-hse/datasets/2023/articles.pkl"
   ]
  },
  {
   "cell_type": "code",
   "execution_count": 1,
   "id": "ce3a0f8c",
   "metadata": {},
   "outputs": [],
   "source": [
    "import pickle\n",
    "import matplotlib.pyplot as plt"
   ]
  },
  {
   "cell_type": "markdown",
   "id": "b9211ca7",
   "metadata": {},
   "source": [
    "Теперь откроем загруженный файл на чтение в бинарном формате и десериализуем его в Python-объект(pandas.DataFrame) используя функцию pickle.loads."
   ]
  },
  {
   "cell_type": "code",
   "execution_count": 3,
   "id": "752204ed",
   "metadata": {},
   "outputs": [
    {
     "data": {
      "text/html": [
       "<div>\n",
       "<style scoped>\n",
       "    .dataframe tbody tr th:only-of-type {\n",
       "        vertical-align: middle;\n",
       "    }\n",
       "\n",
       "    .dataframe tbody tr th {\n",
       "        vertical-align: top;\n",
       "    }\n",
       "\n",
       "    .dataframe thead th {\n",
       "        text-align: right;\n",
       "    }\n",
       "</style>\n",
       "<table border=\"1\" class=\"dataframe\">\n",
       "  <thead>\n",
       "    <tr style=\"text-align: right;\">\n",
       "      <th></th>\n",
       "      <th>id</th>\n",
       "      <th>title</th>\n",
       "      <th>text</th>\n",
       "      <th>time</th>\n",
       "      <th>hubs</th>\n",
       "      <th>tags</th>\n",
       "    </tr>\n",
       "  </thead>\n",
       "  <tbody>\n",
       "    <tr>\n",
       "      <th>8798</th>\n",
       "      <td>746794</td>\n",
       "      <td>How to make a robot? What is first</td>\n",
       "      <td>I develop robots and I'm often asked - \"how to...</td>\n",
       "      <td>8  июл   в 23:16</td>\n",
       "      <td>JavaScript *|Node.JS *|Разработка робототехник...</td>\n",
       "      <td>robotics|raspberrypi|raspberry pi|nodejs</td>\n",
       "    </tr>\n",
       "    <tr>\n",
       "      <th>7427</th>\n",
       "      <td>750116</td>\n",
       "      <td>С декабря 2023 года в рунете планируется огран...</td>\n",
       "      <td>С декабря 2023 года в рунете планируется добро...</td>\n",
       "      <td>25  июл   в 08:12</td>\n",
       "      <td>Информационная безопасность *|Веб-разработка *...</td>\n",
       "      <td>рунет|аккаунт|российскией сервис|регистрация</td>\n",
       "    </tr>\n",
       "    <tr>\n",
       "      <th>2594</th>\n",
       "      <td>761600</td>\n",
       "      <td>Где в Москве жить «неплохо»</td>\n",
       "      <td>В одной прошлых публикации про \"где бы вы точн...</td>\n",
       "      <td>21  сен   в 08:00</td>\n",
       "      <td>PostgreSQL *|OpenStreetMap *|Геоинформационные...</td>\n",
       "      <td>где жить неплохо|москва|мкад|экология|тишина</td>\n",
       "    </tr>\n",
       "    <tr>\n",
       "      <th>5487</th>\n",
       "      <td>754700</td>\n",
       "      <td>СПб ФИЦ РАН создали промышленный микрокомпьюте...</td>\n",
       "      <td>В Санкт‑Петербургском Федеральном исследовател...</td>\n",
       "      <td>15  авг   в 12:57</td>\n",
       "      <td>Производство и разработка электроники *|IT-ком...</td>\n",
       "      <td>спб фиц ран|промышленный компьютер|микрокомпью...</td>\n",
       "    </tr>\n",
       "    <tr>\n",
       "      <th>10013</th>\n",
       "      <td>743798</td>\n",
       "      <td>Zod: Типизация и валидация Вашего .env (Vite +...</td>\n",
       "      <td>ВведениеНередко в проектах необходимо заводить...</td>\n",
       "      <td>30  июн   в 12:01</td>\n",
       "      <td>JavaScript *|ReactJS *|TypeScript *</td>\n",
       "      <td>typescript|vite|environment variables|config|z...</td>\n",
       "    </tr>\n",
       "  </tbody>\n",
       "</table>\n",
       "</div>"
      ],
      "text/plain": [
       "           id                                              title  \\\n",
       "8798   746794                 How to make a robot? What is first   \n",
       "7427   750116  С декабря 2023 года в рунете планируется огран...   \n",
       "2594   761600                        Где в Москве жить «неплохо»   \n",
       "5487   754700  СПб ФИЦ РАН создали промышленный микрокомпьюте...   \n",
       "10013  743798  Zod: Типизация и валидация Вашего .env (Vite +...   \n",
       "\n",
       "                                                    text               time  \\\n",
       "8798   I develop robots and I'm often asked - \"how to...   8  июл   в 23:16   \n",
       "7427   С декабря 2023 года в рунете планируется добро...  25  июл   в 08:12   \n",
       "2594   В одной прошлых публикации про \"где бы вы точн...  21  сен   в 08:00   \n",
       "5487   В Санкт‑Петербургском Федеральном исследовател...  15  авг   в 12:57   \n",
       "10013  ВведениеНередко в проектах необходимо заводить...  30  июн   в 12:01   \n",
       "\n",
       "                                                    hubs  \\\n",
       "8798   JavaScript *|Node.JS *|Разработка робототехник...   \n",
       "7427   Информационная безопасность *|Веб-разработка *...   \n",
       "2594   PostgreSQL *|OpenStreetMap *|Геоинформационные...   \n",
       "5487   Производство и разработка электроники *|IT-ком...   \n",
       "10013                JavaScript *|ReactJS *|TypeScript *   \n",
       "\n",
       "                                                    tags  \n",
       "8798            robotics|raspberrypi|raspberry pi|nodejs  \n",
       "7427        рунет|аккаунт|российскией сервис|регистрация  \n",
       "2594        где жить неплохо|москва|мкад|экология|тишина  \n",
       "5487   спб фиц ран|промышленный компьютер|микрокомпью...  \n",
       "10013  typescript|vite|environment variables|config|z...  "
      ]
     },
     "execution_count": 3,
     "metadata": {},
     "output_type": "execute_result"
    }
   ],
   "source": [
    "with open('./articles.pkl', 'rb') as f:\n",
    "    data = pickle.loads(f.read())\n",
    "\n",
    "data.sample(5)"
   ]
  },
  {
   "cell_type": "markdown",
   "id": "11ee0456",
   "metadata": {},
   "source": [
    "Изучим структуру собранных данных, для этого посмотрим какие столбцы есть в датафрейме и какие типы данных в них хранятся."
   ]
  },
  {
   "cell_type": "code",
   "execution_count": 23,
   "id": "df34979e",
   "metadata": {},
   "outputs": [
    {
     "data": {
      "text/plain": [
       "id        int64\n",
       "title    object\n",
       "text     object\n",
       "time     object\n",
       "hubs     object\n",
       "tags     object\n",
       "dtype: object"
      ]
     },
     "execution_count": 23,
     "metadata": {},
     "output_type": "execute_result"
    }
   ],
   "source": [
    "data.dtypes"
   ]
  },
  {
   "cell_type": "markdown",
   "id": "d5aa4a7c",
   "metadata": {},
   "source": [
    "Данные содержат следующие столбцы:\n",
    "- id: уникальный идентификатор статьи\n",
    "- title: заголовок статьи\n",
    "- text: текст статьи\n",
    "- time: время публикации\n",
    "- hubs: Хабы(Сообщества) с которыми связана статья\n",
    "- tags: Теги статьи"
   ]
  },
  {
   "cell_type": "markdown",
   "id": "aacac906",
   "metadata": {},
   "source": [
    "Проверим есть ли в данных пропуски, начнем со столбца \"title\""
   ]
  },
  {
   "cell_type": "code",
   "execution_count": 43,
   "id": "64003550",
   "metadata": {},
   "outputs": [
    {
     "data": {
      "text/plain": [
       "title\n",
       "2        1\n",
       "3        1\n",
       "4        2\n",
       "6        1\n",
       "7        2\n",
       "      ... \n",
       "117    107\n",
       "118    121\n",
       "119    113\n",
       "120    114\n",
       "121      1\n",
       "Name: count, Length: 119, dtype: int64"
      ]
     },
     "execution_count": 43,
     "metadata": {},
     "output_type": "execute_result"
    }
   ],
   "source": [
    "data['title'].map(lambda x: len(x)).value_counts().sort_index()"
   ]
  },
  {
   "cell_type": "markdown",
   "id": "5fe277e4",
   "metadata": {},
   "source": [
    "В данных есть две статьи с аномальными заголовками -- одна с очень большим (121 символ) и вторая с маленьким -- (2) символа, посмотрим на них"
   ]
  },
  {
   "cell_type": "code",
   "execution_count": 44,
   "id": "d1408e75",
   "metadata": {},
   "outputs": [
    {
     "data": {
      "text/html": [
       "<div>\n",
       "<style scoped>\n",
       "    .dataframe tbody tr th:only-of-type {\n",
       "        vertical-align: middle;\n",
       "    }\n",
       "\n",
       "    .dataframe tbody tr th {\n",
       "        vertical-align: top;\n",
       "    }\n",
       "\n",
       "    .dataframe thead th {\n",
       "        text-align: right;\n",
       "    }\n",
       "</style>\n",
       "<table border=\"1\" class=\"dataframe\">\n",
       "  <thead>\n",
       "    <tr style=\"text-align: right;\">\n",
       "      <th></th>\n",
       "      <th>id</th>\n",
       "      <th>title</th>\n",
       "      <th>text</th>\n",
       "      <th>time</th>\n",
       "      <th>hubs</th>\n",
       "      <th>tags</th>\n",
       "    </tr>\n",
       "  </thead>\n",
       "  <tbody>\n",
       "    <tr>\n",
       "      <th>14752</th>\n",
       "      <td>732626</td>\n",
       "      <td>96</td>\n",
       "      <td>Бриллианты. Куда ни глянь –  всюду в свете фон...</td>\n",
       "      <td>1  мая   в 12:52</td>\n",
       "      <td>Научная фантастика</td>\n",
       "      <td>читальный зал|досуг|чтиво|самодеятельность</td>\n",
       "    </tr>\n",
       "    <tr>\n",
       "      <th>17842</th>\n",
       "      <td>725472</td>\n",
       "      <td>Создание сервера для онлайн ММО игр на PHP и U...</td>\n",
       "      <td>В этой серии статей речь пойдет о том что тако...</td>\n",
       "      <td>11  июн   в 17:38</td>\n",
       "      <td>Разработка игр *|Сетевые технологии *|C# *|Uni...</td>\n",
       "      <td>php|unity|интерполяция|экстраполяция|ping|webs...</td>\n",
       "    </tr>\n",
       "  </tbody>\n",
       "</table>\n",
       "</div>"
      ],
      "text/plain": [
       "           id                                              title  \\\n",
       "14752  732626                                                 96   \n",
       "17842  725472  Создание сервера для онлайн ММО игр на PHP и U...   \n",
       "\n",
       "                                                    text               time  \\\n",
       "14752  Бриллианты. Куда ни глянь –  всюду в свете фон...   1  мая   в 12:52   \n",
       "17842  В этой серии статей речь пойдет о том что тако...  11  июн   в 17:38   \n",
       "\n",
       "                                                    hubs  \\\n",
       "14752                                Научная фантастика    \n",
       "17842  Разработка игр *|Сетевые технологии *|C# *|Uni...   \n",
       "\n",
       "                                                    tags  \n",
       "14752         читальный зал|досуг|чтиво|самодеятельность  \n",
       "17842  php|unity|интерполяция|экстраполяция|ping|webs...  "
      ]
     },
     "execution_count": 44,
     "metadata": {},
     "output_type": "execute_result"
    }
   ],
   "source": [
    "data[data['title'].map(lambda x: len(x) == 2 or len(x) == 121)]"
   ]
  },
  {
   "cell_type": "markdown",
   "id": "1aaff541",
   "metadata": {},
   "source": [
    "Видим, что обе статьи не являются выбросами."
   ]
  },
  {
   "cell_type": "markdown",
   "id": "c8eecb49",
   "metadata": {},
   "source": [
    "Аналогично изучим другие столбцы"
   ]
  },
  {
   "cell_type": "markdown",
   "id": "9367a37d",
   "metadata": {},
   "source": [
    "Смотрим на длину текстов в символах"
   ]
  },
  {
   "cell_type": "code",
   "execution_count": 9,
   "id": "99ac73db",
   "metadata": {},
   "outputs": [
    {
     "data": {
      "text/plain": [
       "text\n",
       "197       1\n",
       "231       1\n",
       "239       1\n",
       "259       1\n",
       "260       1\n",
       "         ..\n",
       "159696    1\n",
       "176555    1\n",
       "216898    1\n",
       "233741    1\n",
       "294738    1\n",
       "Name: count, Length: 11960, dtype: int64"
      ]
     },
     "execution_count": 9,
     "metadata": {},
     "output_type": "execute_result"
    }
   ],
   "source": [
    "data['text'].map(lambda x: len(x)).value_counts().sort_index()"
   ]
  },
  {
   "cell_type": "markdown",
   "id": "a2bdf95b",
   "metadata": {},
   "source": [
    "Пустые тексты отсутствуют"
   ]
  },
  {
   "cell_type": "code",
   "execution_count": 11,
   "id": "fcb82bc7",
   "metadata": {},
   "outputs": [
    {
     "data": {
      "text/plain": [
       "tags\n",
       "1      425\n",
       "2     1279\n",
       "3     2681\n",
       "4     3268\n",
       "5     2938\n",
       "6     2442\n",
       "7     1854\n",
       "8     1537\n",
       "9     1079\n",
       "10    2011\n",
       "11      86\n",
       "12     123\n",
       "13      63\n",
       "14      51\n",
       "15      45\n",
       "16      26\n",
       "17      19\n",
       "18      14\n",
       "19       9\n",
       "20      10\n",
       "21       8\n",
       "22       7\n",
       "23       5\n",
       "24       5\n",
       "25       2\n",
       "26       1\n",
       "27       2\n",
       "28       2\n",
       "29       2\n",
       "30       1\n",
       "31       3\n",
       "33       2\n",
       "Name: count, dtype: int64"
      ]
     },
     "execution_count": 11,
     "metadata": {},
     "output_type": "execute_result"
    }
   ],
   "source": [
    "data['tags'].map(lambda x: len(x.split('|'))).value_counts().sort_index()"
   ]
  },
  {
   "cell_type": "markdown",
   "id": "f065406a",
   "metadata": {},
   "source": [
    "Для каждой статьи есть 1 или больше тегов, статей без тегов нет"
   ]
  },
  {
   "cell_type": "code",
   "execution_count": 8,
   "id": "0b0a2bb5",
   "metadata": {},
   "outputs": [
    {
     "data": {
      "text/plain": [
       "hubs\n",
       "1    1645\n",
       "2    4930\n",
       "3    5597\n",
       "4    4073\n",
       "5    3751\n",
       "6       4\n",
       "Name: count, dtype: int64"
      ]
     },
     "execution_count": 8,
     "metadata": {},
     "output_type": "execute_result"
    }
   ],
   "source": [
    "data['hubs'].map(lambda x: len(x.split('|'))).value_counts().sort_index()"
   ]
  },
  {
   "cell_type": "markdown",
   "id": "c8cfc49e",
   "metadata": {},
   "source": [
    "Каждая статья принадлежит ненулевому количеству хабов"
   ]
  }
 ],
 "metadata": {
  "kernelspec": {
   "display_name": "Python 3 (ipykernel)",
   "language": "python",
   "name": "python3"
  },
  "language_info": {
   "codemirror_mode": {
    "name": "ipython",
    "version": 3
   },
   "file_extension": ".py",
   "mimetype": "text/x-python",
   "name": "python",
   "nbconvert_exporter": "python",
   "pygments_lexer": "ipython3",
   "version": "3.11.5"
  }
 },
 "nbformat": 4,
 "nbformat_minor": 5
}
